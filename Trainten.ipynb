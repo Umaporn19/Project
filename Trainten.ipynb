{
  "nbformat": 4,
  "nbformat_minor": 0,
  "metadata": {
    "colab": {
      "provenance": [],
      "authorship_tag": "ABX9TyOWcxKgzozLZ8F+3lz5T0ZT",
      "include_colab_link": true
    },
    "kernelspec": {
      "name": "python3",
      "display_name": "Python 3"
    },
    "language_info": {
      "name": "python"
    }
  },
  "cells": [
    {
      "cell_type": "markdown",
      "metadata": {
        "id": "view-in-github",
        "colab_type": "text"
      },
      "source": [
        "<a href=\"https://colab.research.google.com/github/Umaporn19/Project/blob/main/Trainten.ipynb\" target=\"_parent\"><img src=\"https://colab.research.google.com/assets/colab-badge.svg\" alt=\"Open In Colab\"/></a>"
      ]
    },
    {
      "cell_type": "code",
      "execution_count": null,
      "metadata": {
        "id": "mGDIJbiOhy4C"
      },
      "outputs": [],
      "source": [
        "import pandas as pd # ใช้ทำงานกับข้อมูลลักษณะตาราง"
      ]
    },
    {
      "cell_type": "code",
      "source": [
        "from google.colab import drive # เชื่อมเข้ากับ Drive\n",
        "drive.mount('/content/drive')  # คลิกที่ลิงก์ -> เลือก E-mail -> ลงชื่อเข้าใช้ -> ก็อปโค้ด -> นำกลับมาวางในช่องว่าง -> กด enter"
      ],
      "metadata": {
        "id": "2sDnudqGh_5a"
      },
      "execution_count": null,
      "outputs": []
    },
    {
      "cell_type": "code",
      "source": [
        "Example_Base = r'/content/drive/My Drive/id8/Base' # ให้อ่านที่อยู่ของโฟรเดอร์ในไดร์ฟ และสร้างตัวแปร ชื่อว่า Example_Base มารับไว้"
      ],
      "metadata": {
        "id": "-oDqFhJKh_26"
      },
      "execution_count": null,
      "outputs": []
    },
    {
      "cell_type": "code",
      "source": [
        "import os # os เอาไว้จัดการไฟล์และ path \n",
        "\n",
        "files = [] # สร้างตัวแปรมารับค่าไว้ใน list ว่าง\n",
        "for (path, dirnames, filenames) in os.walk(Example_Base): # os.walk คือ ทำงานสร้างชื่อไฟล์แต่ละไฟล์ ตามที่เก็บข้อมูล\n",
        "    \n",
        "    files.extend(os.path.join(path, name) for name in filenames) # extend  ใช้เพื่อรวม list # คำสั่งเชื่อมส่วนประกอบของ path ที่ประกอบด้วย directory หรือ file เพื่อสร้าง path หรือ URL ที่รองรับการทำงานบนระบบปฏิบัติการต่างๆ\n",
        "\n",
        "print(files) # แสดงผลลัพธ์"
      ],
      "metadata": {
        "id": "mz7uwQZVh_0a"
      },
      "execution_count": null,
      "outputs": []
    },
    {
      "cell_type": "code",
      "source": [
        "files #เรียกดูชื่อไฟล์ทั้งหมดของ Base"
      ],
      "metadata": {
        "id": "g__gYv23h_x3"
      },
      "execution_count": null,
      "outputs": []
    },
    {
      "cell_type": "code",
      "source": [
        "import pandas as pd # import ข้อมูลเข้าเพื่อสร้างตาาราง"
      ],
      "metadata": {
        "id": "AFUN5yK_h_vP"
      },
      "execution_count": null,
      "outputs": []
    },
    {
      "cell_type": "code",
      "source": [
        "pathname = pd.DataFrame({'Path_Name':files}) # สร้างตารางคอลลัมม์ที่อยู่ของภาพโดยตั้งชื่อคอลลัมม์ว่า Path_name \n",
        "pathname #แสดงตาราง"
      ],
      "metadata": {
        "id": "4QuQ3qzNh_sn"
      },
      "execution_count": null,
      "outputs": []
    },
    {
      "cell_type": "code",
      "source": [
        "list_path = list(pathname['Path_Name']) # เก็บที่อยู่ของภาพในรูปแบบตาราง โดยชื่อว่า list_path ซึ่ง list(ชื่อตาราง['ชื่อคอลัมน์'])\n",
        "class_list = list() # สร้างตัวแปร class_list มาเก็บ list ว่าง\n",
        "for i in list_path: # วนลูปใน list_path\n",
        "    res = i.split('/') # split ใช้สำหรับแยก โดยในที่นี้แยกด้วย / แล้วตั้งชื่อว่า res\n",
        "    print(res[6]) # แสดงผลลัพธ์ของ res ตัวที่ 7 คือตำเเหน่งที่เราต้องการ \n",
        "    class_list.append(res[6]) # append  คำสั่งเพิ่มข้อมูลลงใน List\n",
        "    \n",
        "pathname['Part'] = class_list # ตั้งชื่อคอลัมน์ว่า Part ในตาราง pathname โดยนำค่าใน class_list มาใส่"
      ],
      "metadata": {
        "id": "l7L2jf6wiZFt"
      },
      "execution_count": null,
      "outputs": []
    },
    {
      "cell_type": "code",
      "source": [
        "pathname # โชว์ตาราง pathname หลังเพิ่มคอลัมน์ Part แล้ว (P01-P15)"
      ],
      "metadata": {
        "id": "Rkf1Myj4iZDK"
      },
      "execution_count": null,
      "outputs": []
    },
    {
      "cell_type": "code",
      "source": [
        "pathname = pathname.iloc[:,:2]\n",
        "pathname"
      ],
      "metadata": {
        "id": "gyHkOToMiZAt"
      },
      "execution_count": null,
      "outputs": []
    },
    {
      "cell_type": "code",
      "source": [
        "Car = pathname.groupby(['Part'])['Path_Name'].count().reset_index().sort_values(by=['Part']) \n",
        "#.groupby(['คอลัมน์หลัก'])[คอลัมน์ที่ต้องการรู้จำนวน] groupby ใช้เพื่อรวมกลุ่ม จัดการกับข้อมูลที่เป็นกลุ่มนั้น ๆ \n",
        "# .count() นับจำนวนข้อมูลในคอลัมน์ที่ต้องการรู้จำนวน # .reset_index() ใช้เพื่อลบช่องว่างออก # sort_value(by=['คอลัมน์'])ใช้เพื่อเรียงข้อมูลตามคอลัมน์ที่เราต้องการ\n",
        "Car # แสดงผลลัพธ์ของจำนวนข้อมูลภาพในแต่ละ Part"
      ],
      "metadata": {
        "id": "tjF5trE2iY97"
      },
      "execution_count": null,
      "outputs": []
    },
    {
      "cell_type": "code",
      "source": [
        "list_path = list(pathname['Path_Name']) # เก็บที่อยู่ของภาพในรูปแบบตาราง โดยชื่อว่า list_path ซึ่ง list(ชื่อตาราง['ชื่อคอลัมน์'])\n",
        "angle_list = list() # สร้างตัวแปร angle_list มาเก็บ list ว่าง\n",
        "for i in list_path: # วนลูปใน list_path\n",
        "    res = i.split('/') # split ใช้สำหรับแยก โดยในที่นี้แยกด้วย / แล้วตั้งชื่อว่า res\n",
        "    print(res[8]) # แสดงผลลัพธ์ของ res ตัวที่ 9 คือตำเเหน่งที่เราต้องการ\n",
        "    angle_list.append(res[8]) # append  คำสั่งเพิ่มข้อมูลลงใน List\n",
        "    \n",
        "pathname['Angle'] = angle_list # ตั้งชื่อคอลัมน์ว่า Angle ในตาราง pathname โดยนำค่าใน angle_list มาใส่"
      ],
      "metadata": {
        "id": "cGxX4qWGiY7Q"
      },
      "execution_count": null,
      "outputs": []
    },
    {
      "cell_type": "code",
      "source": [
        "tb = pathname.groupby(['Angle','Part'])['Path_Name'].count().reset_index().sort_values(by=['Angle']) # ให้คอลัมน์ Angle และ Part เป็นหลักแต่ นับจำนวนจาก Path_Name\n",
        "tb[tb['Path_Name']!=99] # แสดงผลค่าในตาราง Path_Name ที่ไม่เท่ากับ 99"
      ],
      "metadata": {
        "id": "FAofRil-iY46"
      },
      "execution_count": null,
      "outputs": []
    },
    {
      "cell_type": "code",
      "source": [
        "list_path = list(pathname['Path_Name']) # เก็บที่อยู่ของภาพในรูปแบบตาราง โดยชื่อว่า list_path ซึ่ง list(ชื่อตาราง['ชื่อคอลัมน์'])\n",
        "dis_list = list() # สร้างตัวแปร dis_list มาเก็บ list ว่าง\n",
        "for i in list_path: # วนลูปใน list_path\n",
        "    res = i.split('/') # split ใช้สำหรับแยก โดยในที่นี้แยกด้วย / แล้วตั้งชื่อว่า res\n",
        "    print(res[7]) # แสดงผลลัพธ์ของ res ตัวที่ 8 คือตำเเหน่งที่เราต้องการ \n",
        "    dis_list.append(res[7]) # append  คำสั่งเพิ่มข้อมูลลงใน List\n",
        "    \n",
        "pathname['Distance'] = dis_list # ตั้งชื่อคอลัมน์ว่า Distance ในตาราง pathname โดยนำค่าใน dis_list มาใส่"
      ],
      "metadata": {
        "id": "t5YNDrBgiY2T"
      },
      "execution_count": null,
      "outputs": []
    },
    {
      "cell_type": "code",
      "source": [
        "tb = pathname.groupby(['Part','Angle','Distance'])['Path_Name'].count().reset_index().sort_values(by=['Part','Angle','Distance']) # ให้คอลัมน์ Angle ,Part และDistance เป็นหลักแต่ นับจำนวนจาก Path_Name\n",
        "tb[tb['Path_Name']!=9] # แสดงผลค่าในตาราง Path_Name ที่ไม่เท่ากับ 9 เพื่อดูว่า P ไหน มุมไหน ระยะเท่าไหร่ ที่ Path_Name(รูปภาพ) ไม่เท่ากับ 9"
      ],
      "metadata": {
        "id": "tok_F0k9iYzv"
      },
      "execution_count": null,
      "outputs": []
    },
    {
      "cell_type": "code",
      "source": [
        "Example_Minor = r'/content/drive/My Drive/id8/Minor' # ให้อ่านที่อยู่ของโฟรเดอร์ในไดร์ฟ และสร้างตัวแปร ชื่อว่า Example_Minor มารับไว้"
      ],
      "metadata": {
        "id": "F438SpYpiYxW"
      },
      "execution_count": null,
      "outputs": []
    },
    {
      "cell_type": "code",
      "source": [
        "import os # os เอาไว้จัดการไฟล์และ path \n",
        "\n",
        "files2 = []  # สร้างตัวแปรมารับค่าไว้ใน list ว่าง\n",
        "for (path, dirnames, filenames) in os.walk(Example_Minor): # os.walk คือ ทำงานสร้างชื่อไฟล์แต่ละไฟล์ ตามที่เก็บข้อมูล\n",
        "    \n",
        "    files2.extend(os.path.join(path, name) for name in filenames) # extend  ใช้เพื่อรวม list # คำสั่งเชื่อมส่วนประกอบของ path ที่ประกอบด้วย directory หรือ file เพื่อสร้าง path หรือ URL ที่รองรับการทำงานบนระบบปฏิบัติการต่างๆ\n",
        "\n",
        "print(files2 )# แสดงผลลัพธ์"
      ],
      "metadata": {
        "id": "tsVCO-EWiYuz"
      },
      "execution_count": null,
      "outputs": []
    },
    {
      "cell_type": "code",
      "source": [
        "files2 #เรียกดูชื่อไฟล์ทั้งหมดของ Minor"
      ],
      "metadata": {
        "id": "t9hk7AnIiYsU"
      },
      "execution_count": null,
      "outputs": []
    },
    {
      "cell_type": "code",
      "source": [
        "pathnametwo = pd.DataFrame({'Path_Name':files2}) # สร้างตารางคอลลัมม์ที่อยู่ของภาพโดยตั้งชื่อคอลลัมม์ว่า Path_name \n",
        "pathnametwo # แสดงตาราง"
      ],
      "metadata": {
        "id": "XQv7ceUSiYqE"
      },
      "execution_count": null,
      "outputs": []
    },
    {
      "cell_type": "code",
      "source": [
        "list_path2 = list(pathnametwo['Path_Name'])  # เก็บที่อยู่ของภาพในรูปแบบตาราง โดยชื่อว่า list_path ซึ่ง list(ชื่อตาราง['ชื่อคอลัมน์'])\n",
        "class_list2 = list()  # สร้างตัวแปร class_list มาเก็บ list ว่าง\n",
        "for i in list_path2: # วนลูปใน list_path2\n",
        "    res = i.split('/') # split ใช้สำหรับแยก โดยในที่นี้แยกด้วย / แล้วตั้งชื่อว่า res\n",
        "    print(res[6]) # แสดงผลลัพธ์ของ res ตัวที่ 7 คือตำเเหน่งที่เราต้องการ  \n",
        "    class_list2.append(res[6]) # append  คำสั่งเพิ่มข้อมูลลงใน List\n",
        "    \n",
        "pathnametwo['Part'] = class_list2 # ตั้งชื่อคอลัมน์ว่า Part ในตาราง pathname โดยนำค่าใน class_list มาใส่"
      ],
      "metadata": {
        "id": "3PyP9a72ira2"
      },
      "execution_count": null,
      "outputs": []
    },
    {
      "cell_type": "code",
      "source": [
        "pathnametwo"
      ],
      "metadata": {
        "id": "Z3F5M3WNirYP"
      },
      "execution_count": null,
      "outputs": []
    },
    {
      "cell_type": "code",
      "source": [
        "pathnametwo = pathnametwo.iloc[:,:2]\n",
        "pathnametwo"
      ],
      "metadata": {
        "id": "i48Ae1mWirV3"
      },
      "execution_count": null,
      "outputs": []
    },
    {
      "cell_type": "code",
      "source": [
        "Car2 = pathnametwo.groupby(['Part'])['Path_Name'].count().reset_index().sort_values(by=['Part'])\n",
        "#.groupby(['คอลัมน์หลัก'])[คอลัมน์ที่ต้องการรู้จำนวน] groupby ใช้เพื่อรวมกลุ่ม จัดการกับข้อมูลที่เป็นกลุ่มนั้น ๆ \n",
        "# .count() นับจำนวนข้อมูลในคอลัมน์ที่ต้องการรู้จำนวน # .reset_index() ใช้เพื่อลบช่องว่างออก # sort_value(by=['คอลัมน์'])ใช้เพื่อเรียงข้อมูลตามคอลัมน์ที่เราต้องการ\n",
        "Car2 # แสดงผลลัพธ์ของจำนวนข้อมูลภาพในแต่ละ Part"
      ],
      "metadata": {
        "id": "KgKhm5GQirTR"
      },
      "execution_count": null,
      "outputs": []
    },
    {
      "cell_type": "code",
      "source": [
        "list_path2 = list(pathnametwo['Path_Name']) # เก็บที่อยู่ของภาพในรูปแบบตาราง โดยชื่อว่า list_path2 ซึ่ง list(ชื่อตาราง['ชื่อคอลัมน์'])\n",
        "angle_list2 = list() # สร้างตัวแปร class_list มาเก็บ angle ว่าง\n",
        "for i in list_path2: # วนลูปใน list_path2\n",
        "    res = i.split('/') # split ใช้สำหรับแยก โดยในที่นี้แยกด้วย / แล้วตั้งชื่อว่า res\n",
        "    print(res[8]) # แสดงผลลัพธ์ของ res ตัวที่ 9 คือตำเเหน่งที่เราต้องการ \n",
        "    angle_list2.append(res[8]) # append  คำสั่งเพิ่มข้อมูลลงใน List\n",
        "    \n",
        "pathnametwo['Angle'] = angle_list2 # ตั้งชื่อคอลัมน์ว่า Angle ในตาราง pathname โดยนำค่าใน angle_list2 มาใส่"
      ],
      "metadata": {
        "id": "GG9g5QnOirQu"
      },
      "execution_count": null,
      "outputs": []
    },
    {
      "cell_type": "code",
      "source": [
        "tb2 = pathnametwo.groupby(['Angle','Part'])['Path_Name'].count().reset_index().sort_values(by=['Angle']) # ให้คอลัมน์ Angle ,Part และDistance เป็นหลักแต่ นับจำนวนจาก Path_Name\n",
        "tb2[tb2['Path_Name']!=99] # แสดงผลค่าในตาราง Path_Name ที่ไม่เท่ากับ 99"
      ],
      "metadata": {
        "id": "JvvKZXuoirOJ"
      },
      "execution_count": null,
      "outputs": []
    },
    {
      "cell_type": "code",
      "source": [
        "list_path2 = list(pathnametwo['Path_Name']) # เก็บที่อยู่ของภาพในรูปแบบตาราง โดยชื่อว่า list_path2 ซึ่ง list(ชื่อตาราง['ชื่อคอลัมน์'])\n",
        "dis_list2 = list() # สร้างตัวแปร class_list มาเก็บ list ว่าง\n",
        "for i in list_path2: # วนลูปใน list_path2\n",
        "    res = i.split('/') # split ใช้สำหรับแยก โดยในที่นี้แยกด้วย / แล้วตั้งชื่อว่า res\n",
        "    print(res[7]) # แสดงผลลัพธ์ของ res ตัวที่ 7 คือตำเเหน่งที่เราต้องการ \n",
        "    dis_list2.append(res[7])  # append  คำสั่งเพิ่มข้อมูลลงใน List\n",
        "    \n",
        "pathnametwo['Distance'] = dis_list2 # ตั้งชื่อคอลัมน์ว่า Distance ในตาราง pathname โดยนำค่าใน dis_list2 มาใส่"
      ],
      "metadata": {
        "id": "jsBnudi5irLr"
      },
      "execution_count": null,
      "outputs": []
    },
    {
      "cell_type": "code",
      "source": [
        "tb2 = pathnametwo.groupby(['Part','Angle','Distance'])['Path_Name'].count().reset_index().sort_values(by=['Part','Angle','Distance'])  # ให้คอลัมน์ Angle ,Part และDistance เป็นหลักแต่ นับจำนวนจาก Path_Name\n",
        "tb2[tb2['Path_Name']!=9] # แสดงผลค่าในตาราง Path_Name ที่ไม่เท่ากับ 9 เพื่อดูว่า P ไหน มุมไหน ระยะเท่าไหร่ ที่ Path_Name(รูปภาพ) ไม่เท่ากับ 9"
      ],
      "metadata": {
        "id": "-YpLwhSciYnd"
      },
      "execution_count": null,
      "outputs": []
    },
    {
      "cell_type": "code",
      "source": [
        "!sudo update-alternatives --config python3"
      ],
      "metadata": {
        "id": "_kxruIYQh_p8"
      },
      "execution_count": null,
      "outputs": []
    },
    {
      "cell_type": "code",
      "source": [
        "!apt-get install python3-pip #ติดตั้ง pip"
      ],
      "metadata": {
        "id": "xMS6wkRyh_nS"
      },
      "execution_count": null,
      "outputs": []
    },
    {
      "cell_type": "code",
      "source": [
        "!python3 -m pip install --upgrade pip"
      ],
      "metadata": {
        "id": "uwsnf1Pzh_lK"
      },
      "execution_count": null,
      "outputs": []
    },
    {
      "cell_type": "code",
      "source": [
        "# Downgrade pillow to avoid `UserWarning: Possibly corrupt EXIF data.`\n",
        "!pip install pillow==4.0.0"
      ],
      "metadata": {
        "id": "aA7IhLN1h_id"
      },
      "execution_count": null,
      "outputs": []
    },
    {
      "cell_type": "code",
      "source": [
        "from tensorflow.keras import models\n",
        "from tensorflow.keras import layers\n",
        "from tensorflow.keras import optimizers\n",
        "import os\n",
        "import glob\n",
        "import shutil\n",
        "import sys\n",
        "import numpy as np\n",
        "from skimage.io import imread\n",
        "import matplotlib.pyplot as plt\n",
        "from IPython.display import Image\n",
        "%matplotlib inline"
      ],
      "metadata": {
        "id": "O-_h9Q6-h_f0"
      },
      "execution_count": null,
      "outputs": []
    },
    {
      "cell_type": "code",
      "source": [
        "batch_size = 20\n",
        "width = 150\n",
        "height = 150\n",
        "epochs = 100\n",
        "NUM_TRAIN = 100\n",
        "NUM_TEST = 100\n",
        "dropout_rate = 0.2\n",
        "input_shape = (height, width, 3)"
      ],
      "metadata": {
        "id": "yXuMmgkFh_dM"
      },
      "execution_count": null,
      "outputs": []
    },
    {
      "cell_type": "code",
      "source": [
        "#ดึงข้อมูลใน Github มาใช้\n",
        "import os\n",
        "%cd /content\n",
        "if not os.path.isdir(\"efficientnet_keras_transfer_learning\"):\n",
        " !git clone https://github.com/Wanita-8943/efficientnet_keras_transfer_learning\n",
        "%cd efficientnet_keras_transfer_learning/"
      ],
      "metadata": {
        "id": "sHNZS6tnh_aW"
      },
      "execution_count": null,
      "outputs": []
    },
    {
      "cell_type": "code",
      "source": [
        "# Options: EfficientNetB0, EfficientNetB1, EfficientNetB2, EfficientNetB3\n",
        "# Higher the number, the more complex the model is.\n",
        "from efficientnet import EfficientNetB0 as Net\n",
        "from efficientnet import center_crop_and_resize, preprocess_input"
      ],
      "metadata": {
        "id": "gWSC6AvPh_Ve"
      },
      "execution_count": null,
      "outputs": []
    },
    {
      "cell_type": "code",
      "source": [
        "# loading pretrained conv base model\n",
        "# โหลดโมเดล มาโดยตัด output ของโมเดลออก เเต่ยังใช้ input อันเดิม\n",
        "# เเละโหลด weight ของโมเดล มาด้วยที่ชื่อว่า imagenet\n",
        "conv_base = Net(weights='imagenet', include_top=False, input_shape=input_shape)"
      ],
      "metadata": {
        "id": "1QfrMEW_h_TE"
      },
      "execution_count": null,
      "outputs": []
    },
    {
      "cell_type": "code",
      "source": [
        "conv_base.summary() #ดู Summary"
      ],
      "metadata": {
        "id": "s0IvlMLoh_Qu"
      },
      "execution_count": null,
      "outputs": []
    },
    {
      "cell_type": "code",
      "source": [
        "base_dir = '/content/drive/My Drive/id8'\n",
        "os.makedirs(base_dir, exist_ok=True)\n",
        "\n",
        "# Directories for our training,\n",
        "# validation and test splits\n",
        "train_dir = os.path.join(base_dir, 'Base')\n",
        "os.makedirs(train_dir, exist_ok=True)\n",
        "test_dir = os.path.join(base_dir, 'Minor')\n",
        "os.makedirs(test_dir, exist_ok=True)"
      ],
      "metadata": {
        "id": "QLfwfCqDh_OC"
      },
      "execution_count": null,
      "outputs": []
    },
    {
      "cell_type": "code",
      "source": [
        "from tensorflow.keras.preprocessing.image import ImageDataGenerator\n",
        "\n",
        "train_datagen = ImageDataGenerator(\n",
        "      rescale=1./255, # image input 0-255 --> 0-1 เปลี่ยนค่าสี\n",
        "      rotation_range=40,# หมุนภาพในองศา\n",
        "      width_shift_range=0.2, #เปลี่ยนความกว้าง\n",
        "      height_shift_range=0.2, #ปลี่ยนความสูง\n",
        "      shear_range=0.2, #ทำให้ภาพเบี้ยว\n",
        "      zoom_range=0.2, # Randomly zoom image\n",
        "      horizontal_flip=True, \n",
        "      #โดย Default เมื่อมีการเลื่อนภาพ บิดภาพ หมุนภาพ จะเกิดพื้นที่ว่างที่มุม \n",
        "      #ซึ่งจะมีการเติมภาพให้เต็มโดยใช้เทคนิคแบบ Nearest neighbor ซึ่งเป็นการดึงสีบริเวณใหล้าเคียงมาระบายให้เต็ม แต่เราก็ยังสามารถกำหนดวิธีการ Fill ภาพด้วยเทคนิคอื่นได้จาก Parameter fill_mode\n",
        "      fill_mode='nearest')\n",
        "# Note that the validation data should not be augmented!\n",
        "test_datagen = ImageDataGenerator(rescale=1./255)\n",
        "\n",
        "train_generator = train_datagen.flow_from_directory(\n",
        "        # This is the target directory #ไดเรกเป้าหมาย\n",
        "        train_dir,\n",
        "        # รูปภาพทั้งหมดจะถูกปรับขนาดตามความสูงและความกว้างของเป้าหมาย\n",
        "        target_size=(height, width),\n",
        "        batch_size=batch_size,\n",
        "        # Since we use categorical_crossentropy loss, we need categorical labels\n",
        "        #เนื่องจากเราใช้ categorical_crossentropy loss เราจึงต้องมีป้ายกำกับตามหมวดหมู่\n",
        "        class_mode='categorical')\n",
        "\n",
        "test_generator = test_datagen.flow_from_directory( #การดึงภาพจาก Directory มาเข้าโมเดล \n",
        "        test_dir,\n",
        "        target_size=(height, width),\n",
        "        batch_size=batch_size,\n",
        "        class_mode='categorical')"
      ],
      "metadata": {
        "id": "licywrtMh_Ly"
      },
      "execution_count": null,
      "outputs": []
    },
    {
      "cell_type": "code",
      "source": [
        "#ดัดแปลง GlobalMaxPooling2D เพื่อแปลง 4D the (batch_size, rows, cols,channels) tensor เป็น 2D tensor with shape (batch_size,channels)\n",
        "#GlobalMaxPooling2D ส่งผลให้มีจำนวนฟีเจอร์น้อยกว่ามากเมื่อเทียบกับเลเยอร์ Flatten ซึ่งช่วยลดจำนวนพารามิเตอร์ได้อย่างมีประสิทธิภาพ\n",
        "\n",
        "model = models.Sequential()\n",
        "model.add(conv_base)\n",
        "model.add(layers.GlobalMaxPooling2D(name=\"gap\"))\n",
        "# model.add(layers.Flatten(name=\"flatten\"))\n",
        "if dropout_rate > 0:\n",
        "    model.add(layers.Dropout(dropout_rate, name=\"dropout_out\"))\n",
        "# model.add(layers.Dense(256, activation='relu', name=\"fc1\"))\n",
        "model.add(layers.Dense(15, activation='softmax', name=\"fc_out\"))"
      ],
      "metadata": {
        "id": "wdz9yrHdh_JL"
      },
      "execution_count": null,
      "outputs": []
    },
    {
      "cell_type": "code",
      "source": [
        "model.summary()"
      ],
      "metadata": {
        "id": "TunxK_l6h_Gp"
      },
      "execution_count": null,
      "outputs": []
    },
    {
      "cell_type": "code",
      "source": [
        "print('This is the number of trainable layers '\n",
        "      'before freezing the conv base:', len(model.trainable_weights))\n",
        "\n",
        "conv_base.trainable = False\n",
        "\n",
        "print('This is the number of trainable layers '\n",
        "      'after freezing the conv base:', len(model.trainable_weights))"
      ],
      "metadata": {
        "id": "Dnq5ET_FjHc7"
      },
      "execution_count": null,
      "outputs": []
    },
    {
      "cell_type": "markdown",
      "source": [
        "# load model"
      ],
      "metadata": {
        "id": "eqftX4zsjJBx"
      }
    },
    {
      "cell_type": "code",
      "source": [
        "import os\n",
        "%cd /content\n",
        "if not os.path.isdir(\"efficientnet_keras_transfer_learning\"):\n",
        " !git clone https://github.com/Wanita-8943/efficientnet_keras_transfer_learning\n",
        "%cd efficientnet_keras_transfer_learning/"
      ],
      "metadata": {
        "id": "qTv9lw6KjHag"
      },
      "execution_count": null,
      "outputs": []
    },
    {
      "cell_type": "code",
      "source": [
        "import sys\n",
        "sys.path.append('/content/drive/My Drive/model/modelcarthree.h5')\n",
        "\n",
        "from efficientnet.layers import Swish, DropConnect\n",
        "from efficientnet.model import ConvKernalInitializer\n",
        "from tensorflow.keras.utils import get_custom_objects\n",
        "\n",
        "get_custom_objects().update({\n",
        "    'ConvKernalInitializer': ConvKernalInitializer,\n",
        "    'Swish': Swish,\n",
        "    'DropConnect':DropConnect\n",
        "})"
      ],
      "metadata": {
        "id": "dd0ICyBNjHYN"
      },
      "execution_count": null,
      "outputs": []
    },
    {
      "cell_type": "code",
      "source": [
        "#load model \n",
        "from tensorflow.keras.models import load_model\n",
        "modelfour = load_model('/content/drive/My Drive/model/modelcarthree.h5')\n",
        "height = width = model.input_shape[1]"
      ],
      "metadata": {
        "id": "xEqplyTnjHV0"
      },
      "execution_count": null,
      "outputs": []
    },
    {
      "cell_type": "code",
      "source": [
        "modelfour.summary()\n",
        "modelfour.get_weights()"
      ],
      "metadata": {
        "id": "dy-XLMLLjHTS"
      },
      "execution_count": null,
      "outputs": []
    },
    {
      "cell_type": "code",
      "source": [
        "base_dir = '/content/drive/My Drive/id8'\n",
        "os.makedirs(base_dir, exist_ok=True)\n",
        "\n",
        "# Directories for our training,\n",
        "# validation and test splits\n",
        "train_dir = os.path.join(base_dir, 'Base')\n",
        "os.makedirs(train_dir, exist_ok=True)\n",
        "test_dir = os.path.join(base_dir, 'Minor')\n",
        "os.makedirs(test_dir, exist_ok=True)"
      ],
      "metadata": {
        "id": "hzBNsex0jHQ8"
      },
      "execution_count": null,
      "outputs": []
    },
    {
      "cell_type": "code",
      "source": [
        "from tensorflow.keras.preprocessing.image import ImageDataGenerator\n",
        "\n",
        "train_datagen = ImageDataGenerator(\n",
        "      rescale=1./255, # image input 0-255 --> 0-1 เปลี่ยนค่าสี\n",
        "      rotation_range=40,# หมุนภาพในองศา\n",
        "      width_shift_range=0.2, #เปลี่ยนความกว้าง\n",
        "      height_shift_range=0.2, #ปลี่ยนความสูง\n",
        "      shear_range=0.2, #ทำให้ภาพเบี้ยว\n",
        "      zoom_range=0.2, # Randomly zoom image\n",
        "      horizontal_flip=True, \n",
        "      #โดย Default เมื่อมีการเลื่อนภาพ บิดภาพ หมุนภาพ จะเกิดพื้นที่ว่างที่มุม \n",
        "      #ซึ่งจะมีการเติมภาพให้เต็มโดยใช้เทคนิคแบบ Nearest neighbor ซึ่งเป็นการดึงสีบริเวณใหล้าเคียงมาระบายให้เต็ม แต่เราก็ยังสามารถกำหนดวิธีการ Fill ภาพด้วยเทคนิคอื่นได้จาก Parameter fill_mode\n",
        "      fill_mode='nearest')\n",
        "# Note that the validation data should not be augmented!\n",
        "test_datagen = ImageDataGenerator(rescale=1./255)\n",
        "\n",
        "train_generator = train_datagen.flow_from_directory(\n",
        "        # This is the target directory #ไดเรกเป้าหมาย\n",
        "        train_dir,\n",
        "        # รูปภาพทั้งหมดจะถูกปรับขนาดตามความสูงและความกว้างของเป้าหมาย\n",
        "        target_size=(height, width),\n",
        "        batch_size=batch_size,\n",
        "        # Since we use categorical_crossentropy loss, we need categorical labels\n",
        "        #เนื่องจากเราใช้ categorical_crossentropy loss เราจึงต้องมีป้ายกำกับตามหมวดหมู่\n",
        "        class_mode='categorical')\n",
        "\n",
        "test_generator = test_datagen.flow_from_directory( #การดึงภาพจาก Directory มาเข้าโมเดล \n",
        "        test_dir,\n",
        "        target_size=(height, width),\n",
        "        batch_size=batch_size,\n",
        "        class_mode='categorical')"
      ],
      "metadata": {
        "id": "wQQ5xc_8jHOa"
      },
      "execution_count": null,
      "outputs": []
    },
    {
      "cell_type": "code",
      "source": [
        "#ดัดแปลง GlobalMaxPooling2D เพื่อแปลง 4D the (batch_size, rows, cols,channels) tensor เป็น 2D tensor with shape (batch_size,channels)\n",
        "#GlobalMaxPooling2D ส่งผลให้มีจำนวนฟีเจอร์น้อยกว่ามากเมื่อเทียบกับเลเยอร์ Flatten ซึ่งช่วยลดจำนวนพารามิเตอร์ได้อย่างมีประสิทธิภาพ\n",
        "\n",
        "model = models.Sequential()\n",
        "model.add(conv_base)\n",
        "model.add(layers.GlobalMaxPooling2D(name=\"gap\"))\n",
        "# model.add(layers.Flatten(name=\"flatten\"))\n",
        "if dropout_rate > 0:\n",
        "    model.add(layers.Dropout(dropout_rate, name=\"dropout_out\"))\n",
        "# model.add(layers.Dense(256, activation='relu', name=\"fc1\"))\n",
        "model.add(layers.Dense(15, activation='softmax', name=\"fc_out\"))\n"
      ],
      "metadata": {
        "id": "6I0-j7qOjHMP"
      },
      "execution_count": null,
      "outputs": []
    },
    {
      "cell_type": "code",
      "source": [
        "modelfour.summary()"
      ],
      "metadata": {
        "id": "qdX_zAnkjHJ1"
      },
      "execution_count": null,
      "outputs": []
    },
    {
      "cell_type": "code",
      "source": [
        "print('This is the number of trainable layers '\n",
        "      'before freezing the conv base:', len(model.trainable_weights))\n",
        "\n",
        "conv_base.trainable = False\n",
        "\n",
        "print('This is the number of trainable layers '\n",
        "      'after freezing the conv base:', len(model.trainable_weights))"
      ],
      "metadata": {
        "id": "RDe4i8dujHHj"
      },
      "execution_count": null,
      "outputs": []
    },
    {
      "cell_type": "markdown",
      "source": [
        "## Training"
      ],
      "metadata": {
        "id": "7mvWN5FNjV2r"
      }
    },
    {
      "cell_type": "code",
      "source": [
        "modelfour.compile(loss='categorical_crossentropy',\n",
        "              optimizer=optimizers.RMSprop(lr=2e-5),\n",
        "              metrics=['acc'])\n",
        "history = modelfour.fit_generator(\n",
        "      train_generator,\n",
        "      steps_per_epoch= NUM_TRAIN //batch_size,\n",
        "      epochs=epochs,\n",
        "      validation_data=test_generator,\n",
        "      validation_steps= NUM_TEST //batch_size,\n",
        "      verbose=1,\n",
        "      use_multiprocessing=True,\n",
        "      workers=4)"
      ],
      "metadata": {
        "id": "KVw__17LjHFD"
      },
      "execution_count": null,
      "outputs": []
    },
    {
      "cell_type": "code",
      "source": [
        "acc = history.history['acc']\n",
        "val_acc = history.history['val_acc']\n",
        "loss = history.history['loss']\n",
        "val_loss = history.history['val_loss']\n",
        "\n",
        "epochs_x = range(len(acc))\n",
        "\n",
        "plt.plot(epochs_x, acc, 'bo', label='Training acc')\n",
        "plt.plot(epochs_x, val_acc, 'b', label='Validation acc')\n",
        "plt.title('Training and validation accuracy')\n",
        "plt.legend()\n",
        "\n",
        "plt.figure()\n",
        "\n",
        "plt.plot(epochs_x, loss, 'bo', label='Training loss')\n",
        "plt.plot(epochs_x, val_loss, 'b', label='Validation loss')\n",
        "plt.title('Training and validation loss')\n",
        "plt.legend()\n",
        "\n",
        "plt.show()"
      ],
      "metadata": {
        "id": "cxYyoPfsjHCm"
      },
      "execution_count": null,
      "outputs": []
    },
    {
      "cell_type": "code",
      "source": [
        "os.makedirs(\"./content/drive/My Drive/model\", exist_ok=True)\n",
        "model.save('./content/drive/My Drive/model/modelcarfour.h5')"
      ],
      "metadata": {
        "id": "GL2yuiPNjHAM"
      },
      "execution_count": null,
      "outputs": []
    },
    {
      "cell_type": "code",
      "source": [
        "from google.colab import files"
      ],
      "metadata": {
        "id": "tBlN4BQOh_EK"
      },
      "execution_count": null,
      "outputs": []
    },
    {
      "cell_type": "code",
      "source": [
        "files.download(\"./content/drive/My Drive/model/modelcarfour.h5\")"
      ],
      "metadata": {
        "id": "flzW0q5zh_Bb"
      },
      "execution_count": null,
      "outputs": []
    }
  ]
}