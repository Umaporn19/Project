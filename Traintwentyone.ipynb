{
  "nbformat": 4,
  "nbformat_minor": 0,
  "metadata": {
    "colab": {
      "provenance": [],
      "authorship_tag": "ABX9TyN5kgKfBEyWBODAMcb+y7E5",
      "include_colab_link": true
    },
    "kernelspec": {
      "name": "python3",
      "display_name": "Python 3"
    },
    "language_info": {
      "name": "python"
    }
  },
  "cells": [
    {
      "cell_type": "markdown",
      "metadata": {
        "id": "view-in-github",
        "colab_type": "text"
      },
      "source": [
        "<a href=\"https://colab.research.google.com/github/Umaporn19/Project/blob/main/Traintwentyone.ipynb\" target=\"_parent\"><img src=\"https://colab.research.google.com/assets/colab-badge.svg\" alt=\"Open In Colab\"/></a>"
      ]
    },
    {
      "cell_type": "code",
      "execution_count": null,
      "metadata": {
        "id": "09qlWjy04W6h"
      },
      "outputs": [],
      "source": [
        "import pandas as pd # ใช้ทำงานกับข้อมูลลักษณะตาราง"
      ]
    },
    {
      "cell_type": "code",
      "source": [
        "from google.colab import drive # เชื่อมเข้ากับ Drive\n",
        "drive.mount('/content/drive')  # คลิกที่ลิงก์ -> เลือก E-mail -> ลงชื่อเข้าใช้ -> ก็อปโค้ด -> นำกลับมาวางในช่องว่าง -> กด enter"
      ],
      "metadata": {
        "id": "bRxERJO24fvz"
      },
      "execution_count": null,
      "outputs": []
    },
    {
      "cell_type": "code",
      "source": [
        "Example_Base = r'/content/drive/My Drive/id8/Base' # ให้อ่านที่อยู่ของโฟรเดอร์ในไดร์ฟ และสร้างตัวแปร ชื่อว่า Example_Base มารับไว้"
      ],
      "metadata": {
        "id": "SVa8e2K34gr6"
      },
      "execution_count": null,
      "outputs": []
    },
    {
      "cell_type": "code",
      "source": [
        "import os # os เอาไว้จัดการไฟล์และ path \n",
        "\n",
        "files = [] # สร้างตัวแปรมารับค่าไว้ใน list ว่าง\n",
        "for (path, dirnames, filenames) in os.walk(Example_Base): # os.walk คือ ทำงานสร้างชื่อไฟล์แต่ละไฟล์ ตามที่เก็บข้อมูล\n",
        "    \n",
        "    files.extend(os.path.join(path, name) for name in filenames) # extend  ใช้เพื่อรวม list # คำสั่งเชื่อมส่วนประกอบของ path ที่ประกอบด้วย directory หรือ file เพื่อสร้าง path หรือ URL ที่รองรับการทำงานบนระบบปฏิบัติการต่างๆ\n",
        "\n",
        "print(files) # แสดงผลลัพธ์"
      ],
      "metadata": {
        "id": "aB0GKb_d4ifs"
      },
      "execution_count": null,
      "outputs": []
    },
    {
      "cell_type": "code",
      "source": [
        "files #เรียกดูชื่อไฟล์ทั้งหมดของ Base"
      ],
      "metadata": {
        "id": "jymfZs244jC7"
      },
      "execution_count": null,
      "outputs": []
    },
    {
      "cell_type": "code",
      "source": [
        "import pandas as pd # import ข้อมูลเข้าเพื่อสร้างตาาราง "
      ],
      "metadata": {
        "id": "xpUxxVlL4kYT"
      },
      "execution_count": null,
      "outputs": []
    },
    {
      "cell_type": "code",
      "source": [
        "pathname = pd.DataFrame({'Path_Name':files}) # สร้างตารางคอลลัมม์ที่อยู่ของภาพโดยตั้งชื่อคอลลัมม์ว่า Path_name \n",
        "pathname #แสดงตาราง"
      ],
      "metadata": {
        "id": "xaGKAzpm4m_7"
      },
      "execution_count": null,
      "outputs": []
    },
    {
      "cell_type": "code",
      "source": [
        "list_path = list(pathname['Path_Name']) # เก็บที่อยู่ของภาพในรูปแบบตาราง โดยชื่อว่า list_path ซึ่ง list(ชื่อตาราง['ชื่อคอลัมน์'])\n",
        "class_list = list() # สร้างตัวแปร class_list มาเก็บ list ว่าง\n",
        "for i in list_path: # วนลูปใน list_path\n",
        "    res = i.split('/') # split ใช้สำหรับแยก โดยในที่นี้แยกด้วย / แล้วตั้งชื่อว่า res\n",
        "    print(res[6]) # แสดงผลลัพธ์ของ res ตัวที่ 7 คือตำเเหน่งที่เราต้องการ \n",
        "    class_list.append(res[6]) # append  คำสั่งเพิ่มข้อมูลลงใน List\n",
        "    \n",
        "pathname['Part'] = class_list # ตั้งชื่อคอลัมน์ว่า Part ในตาราง pathname โดยนำค่าใน class_list มาใส่"
      ],
      "metadata": {
        "id": "gwLp0b5h4pTM"
      },
      "execution_count": null,
      "outputs": []
    },
    {
      "cell_type": "code",
      "source": [
        "pathname # โชว์ตาราง pathname หลังเพิ่มคอลัมน์ Part แล้ว (P01-P15)"
      ],
      "metadata": {
        "id": "McmXPcSM4pQs"
      },
      "execution_count": null,
      "outputs": []
    },
    {
      "cell_type": "code",
      "source": [
        "pathname = pathname.iloc[:,:2]\n",
        "pathname"
      ],
      "metadata": {
        "id": "4kdRPnT_4pOP"
      },
      "execution_count": null,
      "outputs": []
    },
    {
      "cell_type": "code",
      "source": [
        "Car = pathname.groupby(['Part'])['Path_Name'].count().reset_index().sort_values(by=['Part']) \n",
        "#.groupby(['คอลัมน์หลัก'])[คอลัมน์ที่ต้องการรู้จำนวน] groupby ใช้เพื่อรวมกลุ่ม จัดการกับข้อมูลที่เป็นกลุ่มนั้น ๆ \n",
        "# .count() นับจำนวนข้อมูลในคอลัมน์ที่ต้องการรู้จำนวน # .reset_index() ใช้เพื่อลบช่องว่างออก # sort_value(by=['คอลัมน์'])ใช้เพื่อเรียงข้อมูลตามคอลัมน์ที่เราต้องการ\n",
        "Car # แสดงผลลัพธ์ของจำนวนข้อมูลภาพในแต่ละ Part"
      ],
      "metadata": {
        "id": "CAupuCUj4pLm"
      },
      "execution_count": null,
      "outputs": []
    },
    {
      "cell_type": "code",
      "source": [
        "list_path = list(pathname['Path_Name']) # เก็บที่อยู่ของภาพในรูปแบบตาราง โดยชื่อว่า list_path ซึ่ง list(ชื่อตาราง['ชื่อคอลัมน์'])\n",
        "angle_list = list() # สร้างตัวแปร angle_list มาเก็บ list ว่าง\n",
        "for i in list_path: # วนลูปใน list_path\n",
        "    res = i.split('/') # split ใช้สำหรับแยก โดยในที่นี้แยกด้วย / แล้วตั้งชื่อว่า res\n",
        "    print(res[8]) # แสดงผลลัพธ์ของ res ตัวที่ 9 คือตำเเหน่งที่เราต้องการ\n",
        "    angle_list.append(res[8]) # append  คำสั่งเพิ่มข้อมูลลงใน List\n",
        "    \n",
        "pathname['Angle'] = angle_list # ตั้งชื่อคอลัมน์ว่า Angle ในตาราง pathname โดยนำค่าใน angle_list มาใส่"
      ],
      "metadata": {
        "id": "TWogRClL4pJS"
      },
      "execution_count": null,
      "outputs": []
    },
    {
      "cell_type": "code",
      "source": [
        "tb = pathname.groupby(['Angle','Part'])['Path_Name'].count().reset_index().sort_values(by=['Angle']) # ให้คอลัมน์ Angle และ Part เป็นหลักแต่ นับจำนวนจาก Path_Name\n",
        "tb[tb['Path_Name']!=99] # แสดงผลค่าในตาราง Path_Name ที่ไม่เท่ากับ 99"
      ],
      "metadata": {
        "id": "wvWxe90H4pEL"
      },
      "execution_count": null,
      "outputs": []
    },
    {
      "cell_type": "code",
      "source": [
        "list_path = list(pathname['Path_Name']) # เก็บที่อยู่ของภาพในรูปแบบตาราง โดยชื่อว่า list_path ซึ่ง list(ชื่อตาราง['ชื่อคอลัมน์'])\n",
        "dis_list = list() # สร้างตัวแปร dis_list มาเก็บ list ว่าง\n",
        "for i in list_path: # วนลูปใน list_path\n",
        "    res = i.split('/') # split ใช้สำหรับแยก โดยในที่นี้แยกด้วย / แล้วตั้งชื่อว่า res\n",
        "    print(res[7]) # แสดงผลลัพธ์ของ res ตัวที่ 8 คือตำเเหน่งที่เราต้องการ \n",
        "    dis_list.append(res[7]) # append  คำสั่งเพิ่มข้อมูลลงใน List\n",
        "    \n",
        "pathname['Distance'] = dis_list # ตั้งชื่อคอลัมน์ว่า Distance ในตาราง pathname โดยนำค่าใน dis_list มาใส่"
      ],
      "metadata": {
        "id": "p1CJ_WdS4pBv"
      },
      "execution_count": null,
      "outputs": []
    },
    {
      "cell_type": "code",
      "source": [
        "tb = pathname.groupby(['Part','Angle','Distance'])['Path_Name'].count().reset_index().sort_values(by=['Part','Angle','Distance']) # ให้คอลัมน์ Angle ,Part และDistance เป็นหลักแต่ นับจำนวนจาก Path_Name\n",
        "tb[tb['Path_Name']!=9] # แสดงผลค่าในตาราง Path_Name ที่ไม่เท่ากับ 9 เพื่อดูว่า P ไหน มุมไหน ระยะเท่าไหร่ ที่ Path_Name(รูปภาพ) ไม่เท่ากับ 9"
      ],
      "metadata": {
        "id": "oyPCduUa4o_O"
      },
      "execution_count": null,
      "outputs": []
    },
    {
      "cell_type": "code",
      "source": [
        "Example_Minor = r'/content/drive/My Drive/id8/Minor' # ให้อ่านที่อยู่ของโฟรเดอร์ในไดร์ฟ และสร้างตัวแปร ชื่อว่า Example_Minor มารับไว้"
      ],
      "metadata": {
        "id": "GquAzxqP4o82"
      },
      "execution_count": null,
      "outputs": []
    },
    {
      "cell_type": "code",
      "source": [
        "import os # os เอาไว้จัดการไฟล์และ path \n",
        "\n",
        "files2 = []  # สร้างตัวแปรมารับค่าไว้ใน list ว่าง\n",
        "for (path, dirnames, filenames) in os.walk(Example_Minor): # os.walk คือ ทำงานสร้างชื่อไฟล์แต่ละไฟล์ ตามที่เก็บข้อมูล\n",
        "    \n",
        "    files2.extend(os.path.join(path, name) for name in filenames) # extend  ใช้เพื่อรวม list # คำสั่งเชื่อมส่วนประกอบของ path ที่ประกอบด้วย directory หรือ file เพื่อสร้าง path หรือ URL ที่รองรับการทำงานบนระบบปฏิบัติการต่างๆ\n",
        "\n",
        "print(files2 )# แสดงผลลัพธ์"
      ],
      "metadata": {
        "id": "tNS6Ttoy4o6d"
      },
      "execution_count": null,
      "outputs": []
    },
    {
      "cell_type": "code",
      "source": [
        "files2 #เรียกดูชื่อไฟล์ทั้งหมดของ Minor"
      ],
      "metadata": {
        "id": "AyvXJiaG4o33"
      },
      "execution_count": null,
      "outputs": []
    },
    {
      "cell_type": "code",
      "source": [
        "pathnametwo = pd.DataFrame({'Path_Name':files2}) # สร้างตารางคอลลัมม์ที่อยู่ของภาพโดยตั้งชื่อคอลลัมม์ว่า Path_name \n",
        "pathnametwo # แสดงตาราง"
      ],
      "metadata": {
        "id": "ATjuUDCx4o1O"
      },
      "execution_count": null,
      "outputs": []
    },
    {
      "cell_type": "code",
      "source": [
        "list_path2 = list(pathnametwo['Path_Name'])  # เก็บที่อยู่ของภาพในรูปแบบตาราง โดยชื่อว่า list_path ซึ่ง list(ชื่อตาราง['ชื่อคอลัมน์'])\n",
        "class_list2 = list()  # สร้างตัวแปร class_list มาเก็บ list ว่าง\n",
        "for i in list_path2: # วนลูปใน list_path2\n",
        "    res = i.split('/') # split ใช้สำหรับแยก โดยในที่นี้แยกด้วย / แล้วตั้งชื่อว่า res\n",
        "    print(res[6]) # แสดงผลลัพธ์ของ res ตัวที่ 7 คือตำเเหน่งที่เราต้องการ  \n",
        "    class_list2.append(res[6]) # append  คำสั่งเพิ่มข้อมูลลงใน List\n",
        "    \n",
        "pathnametwo['Part'] = class_list2 # ตั้งชื่อคอลัมน์ว่า Part ในตาราง pathname โดยนำค่าใน class_list มาใส่"
      ],
      "metadata": {
        "id": "JIATmfKc4oy-"
      },
      "execution_count": null,
      "outputs": []
    },
    {
      "cell_type": "code",
      "source": [
        "pathnametwo"
      ],
      "metadata": {
        "id": "VUQmCdh-4owk"
      },
      "execution_count": null,
      "outputs": []
    },
    {
      "cell_type": "code",
      "source": [
        "pathnametwo = pathnametwo.iloc[:,:2]\n",
        "pathnametwo"
      ],
      "metadata": {
        "id": "nmlnESiN4ot0"
      },
      "execution_count": null,
      "outputs": []
    },
    {
      "cell_type": "code",
      "source": [
        "Car2 = pathnametwo.groupby(['Part'])['Path_Name'].count().reset_index().sort_values(by=['Part'])\n",
        "#.groupby(['คอลัมน์หลัก'])[คอลัมน์ที่ต้องการรู้จำนวน] groupby ใช้เพื่อรวมกลุ่ม จัดการกับข้อมูลที่เป็นกลุ่มนั้น ๆ \n",
        "# .count() นับจำนวนข้อมูลในคอลัมน์ที่ต้องการรู้จำนวน # .reset_index() ใช้เพื่อลบช่องว่างออก # sort_value(by=['คอลัมน์'])ใช้เพื่อเรียงข้อมูลตามคอลัมน์ที่เราต้องการ\n",
        "Car2 # แสดงผลลัพธ์ของจำนวนข้อมูลภาพในแต่ละ Part"
      ],
      "metadata": {
        "id": "qP8QNZgZ4orY"
      },
      "execution_count": null,
      "outputs": []
    },
    {
      "cell_type": "code",
      "source": [
        "list_path2 = list(pathnametwo['Path_Name']) # เก็บที่อยู่ของภาพในรูปแบบตาราง โดยชื่อว่า list_path2 ซึ่ง list(ชื่อตาราง['ชื่อคอลัมน์'])\n",
        "angle_list2 = list() # สร้างตัวแปร class_list มาเก็บ angle ว่าง\n",
        "for i in list_path2: # วนลูปใน list_path2\n",
        "    res = i.split('/') # split ใช้สำหรับแยก โดยในที่นี้แยกด้วย / แล้วตั้งชื่อว่า res\n",
        "    print(res[8]) # แสดงผลลัพธ์ของ res ตัวที่ 9 คือตำเเหน่งที่เราต้องการ \n",
        "    angle_list2.append(res[8]) # append  คำสั่งเพิ่มข้อมูลลงใน List\n",
        "    \n",
        "pathnametwo['Angle'] = angle_list2 # ตั้งชื่อคอลัมน์ว่า Angle ในตาราง pathname โดยนำค่าใน angle_list2 มาใส่"
      ],
      "metadata": {
        "id": "ObenoyTd4oma"
      },
      "execution_count": null,
      "outputs": []
    },
    {
      "cell_type": "code",
      "source": [
        "tb2 = pathnametwo.groupby(['Angle','Part'])['Path_Name'].count().reset_index().sort_values(by=['Angle']) # ให้คอลัมน์ Angle ,Part และDistance เป็นหลักแต่ นับจำนวนจาก Path_Name\n",
        "tb2[tb2['Path_Name']!=99] # แสดงผลค่าในตาราง Path_Name ที่ไม่เท่ากับ 99"
      ],
      "metadata": {
        "id": "u1g40ttU4okE"
      },
      "execution_count": null,
      "outputs": []
    },
    {
      "cell_type": "code",
      "source": [
        "list_path2 = list(pathnametwo['Path_Name']) # เก็บที่อยู่ของภาพในรูปแบบตาราง โดยชื่อว่า list_path2 ซึ่ง list(ชื่อตาราง['ชื่อคอลัมน์'])\n",
        "dis_list2 = list() # สร้างตัวแปร class_list มาเก็บ list ว่าง\n",
        "for i in list_path2: # วนลูปใน list_path2\n",
        "    res = i.split('/') # split ใช้สำหรับแยก โดยในที่นี้แยกด้วย / แล้วตั้งชื่อว่า res\n",
        "    print(res[7]) # แสดงผลลัพธ์ของ res ตัวที่ 7 คือตำเเหน่งที่เราต้องการ \n",
        "    dis_list2.append(res[7])  # append  คำสั่งเพิ่มข้อมูลลงใน List\n",
        "    \n",
        "pathnametwo['Distance'] = dis_list2 # ตั้งชื่อคอลัมน์ว่า Distance ในตาราง pathname โดยนำค่าใน dis_list2 มาใส่"
      ],
      "metadata": {
        "id": "QV-mkLaM4ohV"
      },
      "execution_count": null,
      "outputs": []
    },
    {
      "cell_type": "code",
      "source": [
        "tb2 = pathnametwo.groupby(['Part','Angle','Distance'])['Path_Name'].count().reset_index().sort_values(by=['Part','Angle','Distance'])  # ให้คอลัมน์ Angle ,Part และDistance เป็นหลักแต่ นับจำนวนจาก Path_Name\n",
        "tb2[tb2['Path_Name']!=9] # แสดงผลค่าในตาราง Path_Name ที่ไม่เท่ากับ 9 เพื่อดูว่า P ไหน มุมไหน ระยะเท่าไหร่ ที่ Path_Name(รูปภาพ) ไม่เท่ากับ 9"
      ],
      "metadata": {
        "id": "JZklXCwd4ofH"
      },
      "execution_count": null,
      "outputs": []
    },
    {
      "cell_type": "code",
      "source": [
        "!sudo update-alternatives --config python3"
      ],
      "metadata": {
        "id": "CBJYkzDN4ocs"
      },
      "execution_count": null,
      "outputs": []
    },
    {
      "cell_type": "code",
      "source": [
        "!apt-get install python3-pip #ติดตั้ง pip"
      ],
      "metadata": {
        "id": "eInZCpe14oaT"
      },
      "execution_count": null,
      "outputs": []
    },
    {
      "cell_type": "code",
      "source": [
        "!python3 -m pip install --upgrade pip"
      ],
      "metadata": {
        "id": "ytQ2JPdW5E1i"
      },
      "execution_count": null,
      "outputs": []
    },
    {
      "cell_type": "code",
      "source": [
        "# Downgrade pillow to avoid `UserWarning: Possibly corrupt EXIF data.`\n",
        "!pip install pillow==4.0.0"
      ],
      "metadata": {
        "id": "xnauuHRV5EzO"
      },
      "execution_count": null,
      "outputs": []
    },
    {
      "cell_type": "code",
      "source": [
        "from tensorflow.keras import models\n",
        "from tensorflow.keras import layers\n",
        "from tensorflow.keras import optimizers\n",
        "import os\n",
        "import glob\n",
        "import shutil\n",
        "import sys\n",
        "import numpy as np\n",
        "from skimage.io import imread\n",
        "import matplotlib.pyplot as plt\n",
        "from IPython.display import Image\n",
        "%matplotlib inline"
      ],
      "metadata": {
        "id": "apgxcJ_d5Ewm"
      },
      "execution_count": null,
      "outputs": []
    },
    {
      "cell_type": "code",
      "source": [
        "batch_size = 20\n",
        "width = 150\n",
        "height = 150\n",
        "epochs = 100\n",
        "NUM_TRAIN = 100\n",
        "NUM_TEST = 100\n",
        "dropout_rate = 0.2\n",
        "input_shape = (height, width, 3)"
      ],
      "metadata": {
        "id": "7s1U2DYh5EuJ"
      },
      "execution_count": null,
      "outputs": []
    },
    {
      "cell_type": "code",
      "source": [
        "#ดึงข้อมูลใน Github มาใช้\n",
        "import os\n",
        "%cd /content\n",
        "if not os.path.isdir(\"efficientnet_keras_transfer_learning\"):\n",
        " !git clone https://github.com/Wanita-8943/efficientnet_keras_transfer_learning\n",
        "%cd efficientnet_keras_transfer_learning/"
      ],
      "metadata": {
        "id": "fSZdgQX_5Era"
      },
      "execution_count": null,
      "outputs": []
    },
    {
      "cell_type": "code",
      "source": [
        "# Options: EfficientNetB0, EfficientNetB1, EfficientNetB2, EfficientNetB3\n",
        "# Higher the number, the more complex the model is.\n",
        "from efficientnet import EfficientNetB0 as Net\n",
        "from efficientnet import center_crop_and_resize, preprocess_input"
      ],
      "metadata": {
        "id": "1vhGXnom5Eo9"
      },
      "execution_count": null,
      "outputs": []
    },
    {
      "cell_type": "code",
      "source": [
        "# loading pretrained conv base model\n",
        "# โหลดโมเดล มาโดยตัด output ของโมเดลออก เเต่ยังใช้ input อันเดิม\n",
        "# เเละโหลด weight ของโมเดล มาด้วยที่ชื่อว่า imagenet\n",
        "conv_base = Net(weights='imagenet', include_top=False, input_shape=input_shape)"
      ],
      "metadata": {
        "id": "2AeqMQI_5EmY"
      },
      "execution_count": null,
      "outputs": []
    },
    {
      "cell_type": "code",
      "source": [
        "conv_base.summary() #ดู Summary"
      ],
      "metadata": {
        "id": "Sh0cawBA5Ejz"
      },
      "execution_count": null,
      "outputs": []
    },
    {
      "cell_type": "code",
      "source": [
        "base_dir = '/content/drive/My Drive/id8'\n",
        "os.makedirs(base_dir, exist_ok=True)\n",
        "\n",
        "# Directories for our training,\n",
        "# validation and test splits\n",
        "train_dir = os.path.join(base_dir, 'Base')\n",
        "os.makedirs(train_dir, exist_ok=True)\n",
        "test_dir = os.path.join(base_dir, 'Minor')\n",
        "os.makedirs(test_dir, exist_ok=True)"
      ],
      "metadata": {
        "id": "ymmu1rfr5Ehc"
      },
      "execution_count": null,
      "outputs": []
    },
    {
      "cell_type": "code",
      "source": [
        "from tensorflow.keras.preprocessing.image import ImageDataGenerator\n",
        "\n",
        "train_datagen = ImageDataGenerator(\n",
        "      rescale=1./255, # image input 0-255 --> 0-1 เปลี่ยนค่าสี\n",
        "      rotation_range=40,# หมุนภาพในองศา\n",
        "      width_shift_range=0.2, #เปลี่ยนความกว้าง\n",
        "      height_shift_range=0.2, #ปลี่ยนความสูง\n",
        "      shear_range=0.2, #ทำให้ภาพเบี้ยว\n",
        "      zoom_range=0.2, # Randomly zoom image\n",
        "      horizontal_flip=True, \n",
        "      #โดย Default เมื่อมีการเลื่อนภาพ บิดภาพ หมุนภาพ จะเกิดพื้นที่ว่างที่มุม \n",
        "      #ซึ่งจะมีการเติมภาพให้เต็มโดยใช้เทคนิคแบบ Nearest neighbor ซึ่งเป็นการดึงสีบริเวณใหล้าเคียงมาระบายให้เต็ม แต่เราก็ยังสามารถกำหนดวิธีการ Fill ภาพด้วยเทคนิคอื่นได้จาก Parameter fill_mode\n",
        "      fill_mode='nearest')\n",
        "# Note that the validation data should not be augmented!\n",
        "test_datagen = ImageDataGenerator(rescale=1./255)\n",
        "\n",
        "train_generator = train_datagen.flow_from_directory(\n",
        "        # This is the target directory #ไดเรกเป้าหมาย\n",
        "        train_dir,\n",
        "        # รูปภาพทั้งหมดจะถูกปรับขนาดตามความสูงและความกว้างของเป้าหมาย\n",
        "        target_size=(height, width),\n",
        "        batch_size=batch_size,\n",
        "        # Since we use categorical_crossentropy loss, we need categorical labels\n",
        "        #เนื่องจากเราใช้ categorical_crossentropy loss เราจึงต้องมีป้ายกำกับตามหมวดหมู่\n",
        "        class_mode='categorical')\n",
        "\n",
        "test_generator = test_datagen.flow_from_directory( #การดึงภาพจาก Directory มาเข้าโมเดล \n",
        "        test_dir,\n",
        "        target_size=(height, width),\n",
        "        batch_size=batch_size,\n",
        "        class_mode='categorical')"
      ],
      "metadata": {
        "id": "7aHCnUm65EfH"
      },
      "execution_count": null,
      "outputs": []
    },
    {
      "cell_type": "markdown",
      "source": [
        "# load model"
      ],
      "metadata": {
        "id": "UDOGQkAr5UsF"
      }
    },
    {
      "cell_type": "code",
      "source": [
        "import os\n",
        "%cd /content\n",
        "if not os.path.isdir(\"efficientnet_keras_transfer_learning\"):\n",
        " !git clone https://github.com/Wanita-8943/efficientnet_keras_transfer_learning\n",
        "%cd efficientnet_keras_transfer_learning/"
      ],
      "metadata": {
        "id": "QEi6BYWD5Ece"
      },
      "execution_count": null,
      "outputs": []
    },
    {
      "cell_type": "code",
      "source": [
        "import sys\n",
        "sys.path.append('/content/drive/My Drive/model/modelcartwenty.h5')\n",
        "\n",
        "from efficientnet.layers import Swish, DropConnect\n",
        "from efficientnet.model import ConvKernalInitializer\n",
        "from tensorflow.keras.utils import get_custom_objects\n",
        "\n",
        "get_custom_objects().update({\n",
        "    'ConvKernalInitializer': ConvKernalInitializer,\n",
        "    'Swish': Swish,\n",
        "    'DropConnect':DropConnect\n",
        "})"
      ],
      "metadata": {
        "id": "Z2AZ60qk5EaI"
      },
      "execution_count": null,
      "outputs": []
    },
    {
      "cell_type": "code",
      "source": [
        "#load model \n",
        "from tensorflow.keras.models import load_model\n",
        "modeltwentyone = load_model('/content/drive/My Drive/model/modelcartwenty.h5')\n",
        "height = width = modeltwentyone.input_shape[1]"
      ],
      "metadata": {
        "id": "JQsbQz9t5EXs"
      },
      "execution_count": null,
      "outputs": []
    },
    {
      "cell_type": "code",
      "source": [
        "modeltwentyone.summary()\n",
        "modeltwentyone.get_weights()"
      ],
      "metadata": {
        "id": "zfpvuH_A5EVK"
      },
      "execution_count": null,
      "outputs": []
    },
    {
      "cell_type": "code",
      "source": [
        "base_dir = '/content/drive/My Drive/id8'\n",
        "os.makedirs(base_dir, exist_ok=True)\n",
        "\n",
        "# Directories for our training,\n",
        "# validation and test splits\n",
        "train_dir = os.path.join(base_dir, 'Base')\n",
        "os.makedirs(train_dir, exist_ok=True)\n",
        "test_dir = os.path.join(base_dir, 'Minor')\n",
        "os.makedirs(test_dir, exist_ok=True)"
      ],
      "metadata": {
        "id": "h30EJVK-4oX7"
      },
      "execution_count": null,
      "outputs": []
    },
    {
      "cell_type": "code",
      "source": [
        "from tensorflow.keras.preprocessing.image import ImageDataGenerator\n",
        "\n",
        "train_datagen = ImageDataGenerator(\n",
        "      rescale=1./255, # image input 0-255 --> 0-1 เปลี่ยนค่าสี\n",
        "      rotation_range=40,# หมุนภาพในองศา\n",
        "      width_shift_range=0.2, #เปลี่ยนความกว้าง\n",
        "      height_shift_range=0.2, #ปลี่ยนความสูง\n",
        "      shear_range=0.2, #ทำให้ภาพเบี้ยว\n",
        "      zoom_range=0.2, # Randomly zoom image\n",
        "      horizontal_flip=True, \n",
        "      #โดย Default เมื่อมีการเลื่อนภาพ บิดภาพ หมุนภาพ จะเกิดพื้นที่ว่างที่มุม \n",
        "      #ซึ่งจะมีการเติมภาพให้เต็มโดยใช้เทคนิคแบบ Nearest neighbor ซึ่งเป็นการดึงสีบริเวณใหล้าเคียงมาระบายให้เต็ม แต่เราก็ยังสามารถกำหนดวิธีการ Fill ภาพด้วยเทคนิคอื่นได้จาก Parameter fill_mode\n",
        "      fill_mode='nearest')\n",
        "# Note that the validation data should not be augmented!\n",
        "test_datagen = ImageDataGenerator(rescale=1./255)\n",
        "\n",
        "train_generator = train_datagen.flow_from_directory(\n",
        "        # This is the target directory #ไดเรกเป้าหมาย\n",
        "        train_dir,\n",
        "        # รูปภาพทั้งหมดจะถูกปรับขนาดตามความสูงและความกว้างของเป้าหมาย\n",
        "        target_size=(height, width),\n",
        "        batch_size=batch_size,\n",
        "        # Since we use categorical_crossentropy loss, we need categorical labels\n",
        "        #เนื่องจากเราใช้ categorical_crossentropy loss เราจึงต้องมีป้ายกำกับตามหมวดหมู่\n",
        "        class_mode='categorical')\n",
        "\n",
        "test_generator = test_datagen.flow_from_directory( #การดึงภาพจาก Directory มาเข้าโมเดล \n",
        "        test_dir,\n",
        "        target_size=(height, width),\n",
        "        batch_size=batch_size,\n",
        "        class_mode='categorical')"
      ],
      "metadata": {
        "id": "f6uKpbep4oVj"
      },
      "execution_count": null,
      "outputs": []
    },
    {
      "cell_type": "markdown",
      "source": [
        "## Training"
      ],
      "metadata": {
        "id": "4SCJ__4D5qZa"
      }
    },
    {
      "cell_type": "code",
      "source": [
        "modeltwentyone.compile(loss='categorical_crossentropy',\n",
        "              optimizer=optimizers.RMSprop(lr=2e-5),\n",
        "              metrics=['acc'])\n",
        "history = modeltwentyone.fit_generator(\n",
        "      train_generator,\n",
        "      steps_per_epoch= NUM_TRAIN //batch_size,\n",
        "      epochs=epochs,\n",
        "      validation_data=test_generator,\n",
        "      validation_steps= NUM_TEST //batch_size,\n",
        "      verbose=1,\n",
        "      use_multiprocessing=True,\n",
        "      workers=4)"
      ],
      "metadata": {
        "id": "YW_PnUuq5q_K"
      },
      "execution_count": null,
      "outputs": []
    },
    {
      "cell_type": "code",
      "source": [
        "acc = history.history['acc']\n",
        "val_acc = history.history['val_acc']\n",
        "loss = history.history['loss']\n",
        "val_loss = history.history['val_loss']\n",
        "\n",
        "epochs_x = range(len(acc))\n",
        "\n",
        "plt.plot(epochs_x, acc, 'r', label='Training acc')\n",
        "plt.plot(epochs_x, val_acc, 'b', label='Validation acc')\n",
        "plt.title('Training and validation accuracy')\n",
        "plt.legend()\n",
        "\n",
        "plt.figure()\n",
        "\n",
        "plt.plot(epochs_x, loss, 'r', label='Training loss')\n",
        "plt.plot(epochs_x, val_loss, 'b', label='Validation loss')\n",
        "plt.title('Training and validation loss')\n",
        "plt.legend()\n",
        "\n",
        "plt.show()"
      ],
      "metadata": {
        "id": "Xa9SJGzF5rW7"
      },
      "execution_count": null,
      "outputs": []
    },
    {
      "cell_type": "code",
      "source": [
        "os.makedirs(\"./content/drive/My Drive/model\", exist_ok=True)\n",
        "modeltwentyone.save('./content/drive/My Drive/model/modelcartwentyone.h5')"
      ],
      "metadata": {
        "id": "oVdKrmhT5rUK"
      },
      "execution_count": null,
      "outputs": []
    },
    {
      "cell_type": "code",
      "source": [
        "from google.colab import files"
      ],
      "metadata": {
        "id": "q70qjJ1u4oTL"
      },
      "execution_count": null,
      "outputs": []
    },
    {
      "cell_type": "code",
      "source": [
        "files.download(\"./content/drive/My Drive/model/modelcartwentyone.h5\")"
      ],
      "metadata": {
        "id": "nLq93mc65y4U"
      },
      "execution_count": null,
      "outputs": []
    }
  ]
}