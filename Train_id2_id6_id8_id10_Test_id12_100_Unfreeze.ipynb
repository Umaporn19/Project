{
  "nbformat": 4,
  "nbformat_minor": 0,
  "metadata": {
    "colab": {
      "provenance": [],
      "authorship_tag": "ABX9TyPVqgFTrWv7ZAtbRRkTBVwz",
      "include_colab_link": true
    },
    "kernelspec": {
      "name": "python3",
      "display_name": "Python 3"
    },
    "language_info": {
      "name": "python"
    }
  },
  "cells": [
    {
      "cell_type": "markdown",
      "metadata": {
        "id": "view-in-github",
        "colab_type": "text"
      },
      "source": [
        "<a href=\"https://colab.research.google.com/github/Umaporn19/Project/blob/main/Train_id2_id6_id8_id10_Test_id12_100_Unfreeze.ipynb\" target=\"_parent\"><img src=\"https://colab.research.google.com/assets/colab-badge.svg\" alt=\"Open In Colab\"/></a>"
      ]
    },
    {
      "cell_type": "code",
      "execution_count": null,
      "metadata": {
        "colab": {
          "base_uri": "https://localhost:8080/"
        },
        "id": "SOw08K5zpcH3",
        "outputId": "5a435f7d-0429-4903-d032-751d59736acf"
      },
      "outputs": [
        {
          "output_type": "stream",
          "name": "stdout",
          "text": [
            "Mounted at /content/drive\n"
          ]
        }
      ],
      "source": [
        "from google.colab import drive # เชื่อมเข้ากับ Drive\n",
        "drive.mount('/content/drive')  # คลิกที่ลิงก์ -> เลือก E-mail -> ลงชื่อเข้าใช้ -> ก็อปโค้ด -> นำกลับมาวางในช่องว่าง -> กด enter"
      ]
    },
    {
      "cell_type": "code",
      "source": [
        "ls"
      ],
      "metadata": {
        "colab": {
          "base_uri": "https://localhost:8080/"
        },
        "id": "iVR0yqQ1plur",
        "outputId": "1cbd9040-2ae2-4f18-faed-1cb2df403841"
      },
      "execution_count": null,
      "outputs": [
        {
          "output_type": "stream",
          "name": "stdout",
          "text": [
            "\u001b[0m\u001b[01;34mdrive\u001b[0m/  \u001b[01;34msample_data\u001b[0m/\n"
          ]
        }
      ]
    },
    {
      "cell_type": "code",
      "source": [
        "import pandas as pd"
      ],
      "metadata": {
        "id": "O4oobtMrqMBK"
      },
      "execution_count": null,
      "outputs": []
    },
    {
      "cell_type": "markdown",
      "source": [
        "## Load model"
      ],
      "metadata": {
        "id": "wtaLoaGhscfZ"
      }
    },
    {
      "cell_type": "code",
      "source": [
        "from tensorflow.keras import models\n",
        "from tensorflow.keras import layers\n",
        "from tensorflow.keras import optimizers\n",
        "import os\n",
        "import glob\n",
        "import shutil\n",
        "import sys\n",
        "import numpy as np\n",
        "from skimage.io import imread\n",
        "import matplotlib.pyplot as plt\n",
        "from IPython.display import Image\n",
        "%matplotlib inline"
      ],
      "metadata": {
        "id": "v8jyfAcusfTy"
      },
      "execution_count": null,
      "outputs": []
    },
    {
      "cell_type": "code",
      "source": [
        "batch_size = 20\n",
        "width = 150\n",
        "height = 150\n",
        "epochs = 100\n",
        "NUM_TRAIN = 100\n",
        "NUM_TEST = 100\n",
        "dropout_rate = 0.2\n",
        "input_shape = (height, width, 3)"
      ],
      "metadata": {
        "id": "rkS9FLAfshZA"
      },
      "execution_count": null,
      "outputs": []
    },
    {
      "cell_type": "code",
      "source": [
        "#ดึงข้อมูลใน Github มาใช้\n",
        "import os\n",
        "%cd /content\n",
        "if not os.path.isdir(\"efficientnet_keras_transfer_learning\"):\n",
        " !git clone https://github.com/Wanita-8943/efficientnet_keras_transfer_learning\n",
        "%cd efficientnet_keras_transfer_learning/"
      ],
      "metadata": {
        "id": "FN44wW_tsixZ"
      },
      "execution_count": null,
      "outputs": []
    },
    {
      "cell_type": "code",
      "source": [
        "# Options: EfficientNetB0, EfficientNetB1, EfficientNetB2, EfficientNetB3\n",
        "# Higher the number, the more complex the model is.\n",
        "from efficientnet import EfficientNetB0 as Net\n",
        "from efficientnet import center_crop_and_resize, preprocess_input"
      ],
      "metadata": {
        "id": "oViZ5qbosivL"
      },
      "execution_count": null,
      "outputs": []
    },
    {
      "cell_type": "code",
      "source": [
        "# loading pretrained conv base model\n",
        "# โหลดโมเดล มาโดยตัด output ของโมเดลออก เเต่ยังใช้ input อันเดิม\n",
        "# เเละโหลด weight ของโมเดล มาด้วยที่ชื่อว่า imagenet\n",
        "conv_base = Net(weights='imagenet', include_top=False, input_shape=input_shape)"
      ],
      "metadata": {
        "id": "8548QkbHsisz"
      },
      "execution_count": null,
      "outputs": []
    },
    {
      "cell_type": "code",
      "source": [
        "conv_base.summary() #ดู Summary"
      ],
      "metadata": {
        "id": "chUPCndjsiqZ"
      },
      "execution_count": null,
      "outputs": []
    },
    {
      "cell_type": "markdown",
      "source": [
        "## import data"
      ],
      "metadata": {
        "id": "1miYepZ1qkjg"
      }
    },
    {
      "cell_type": "code",
      "source": [
        "import pandas as pd\n",
        "import shutil"
      ],
      "metadata": {
        "id": "55op25HXs2v4"
      },
      "execution_count": null,
      "outputs": []
    },
    {
      "cell_type": "code",
      "source": [
        "df = pd.read_csv (r'/content/drive/MyDrive/data/id_all.csv')\n",
        "df"
      ],
      "metadata": {
        "colab": {
          "base_uri": "https://localhost:8080/",
          "height": 423
        },
        "id": "m3eQqkmkqJvR",
        "outputId": "3a844a3b-c54c-49d2-e811-198a9c7477bc"
      },
      "execution_count": null,
      "outputs": [
        {
          "output_type": "execute_result",
          "data": {
            "text/plain": [
              "        Unnamed: 0                                          Path_Name    id  \\\n",
              "0                0  /content/drive/My Drive/id/id2/Base/p11/dis1.7...   id2   \n",
              "1                1  /content/drive/My Drive/id/id2/Base/p11/dis1.7...   id2   \n",
              "2                2  /content/drive/My Drive/id/id2/Base/p11/dis1.7...   id2   \n",
              "3                3  /content/drive/My Drive/id/id2/Base/p11/dis1.7...   id2   \n",
              "4                4  /content/drive/My Drive/id/id2/Base/p11/dis1.7...   id2   \n",
              "...            ...                                                ...   ...   \n",
              "243523      243523  /content/drive/My Drive/id/id12/Severe/p09/dis...  id12   \n",
              "243524      243524  /content/drive/My Drive/id/id12/Severe/p09/dis...  id12   \n",
              "243525      243525  /content/drive/My Drive/id/id12/Severe/p09/dis...  id12   \n",
              "243526      243526  /content/drive/My Drive/id/id12/Severe/p09/dis...  id12   \n",
              "243527      243527  /content/drive/My Drive/id/id12/Severe/p09/dis...  id12   \n",
              "\n",
              "       Part  \n",
              "0       p11  \n",
              "1       p11  \n",
              "2       p11  \n",
              "3       p11  \n",
              "4       p11  \n",
              "...     ...  \n",
              "243523  p09  \n",
              "243524  p09  \n",
              "243525  p09  \n",
              "243526  p09  \n",
              "243527  p09  \n",
              "\n",
              "[243528 rows x 4 columns]"
            ],
            "text/html": [
              "\n",
              "  <div id=\"df-eeead8c8-8d81-47c3-97bd-e11f5c0aef76\">\n",
              "    <div class=\"colab-df-container\">\n",
              "      <div>\n",
              "<style scoped>\n",
              "    .dataframe tbody tr th:only-of-type {\n",
              "        vertical-align: middle;\n",
              "    }\n",
              "\n",
              "    .dataframe tbody tr th {\n",
              "        vertical-align: top;\n",
              "    }\n",
              "\n",
              "    .dataframe thead th {\n",
              "        text-align: right;\n",
              "    }\n",
              "</style>\n",
              "<table border=\"1\" class=\"dataframe\">\n",
              "  <thead>\n",
              "    <tr style=\"text-align: right;\">\n",
              "      <th></th>\n",
              "      <th>Unnamed: 0</th>\n",
              "      <th>Path_Name</th>\n",
              "      <th>id</th>\n",
              "      <th>Part</th>\n",
              "    </tr>\n",
              "  </thead>\n",
              "  <tbody>\n",
              "    <tr>\n",
              "      <th>0</th>\n",
              "      <td>0</td>\n",
              "      <td>/content/drive/My Drive/id/id2/Base/p11/dis1.7...</td>\n",
              "      <td>id2</td>\n",
              "      <td>p11</td>\n",
              "    </tr>\n",
              "    <tr>\n",
              "      <th>1</th>\n",
              "      <td>1</td>\n",
              "      <td>/content/drive/My Drive/id/id2/Base/p11/dis1.7...</td>\n",
              "      <td>id2</td>\n",
              "      <td>p11</td>\n",
              "    </tr>\n",
              "    <tr>\n",
              "      <th>2</th>\n",
              "      <td>2</td>\n",
              "      <td>/content/drive/My Drive/id/id2/Base/p11/dis1.7...</td>\n",
              "      <td>id2</td>\n",
              "      <td>p11</td>\n",
              "    </tr>\n",
              "    <tr>\n",
              "      <th>3</th>\n",
              "      <td>3</td>\n",
              "      <td>/content/drive/My Drive/id/id2/Base/p11/dis1.7...</td>\n",
              "      <td>id2</td>\n",
              "      <td>p11</td>\n",
              "    </tr>\n",
              "    <tr>\n",
              "      <th>4</th>\n",
              "      <td>4</td>\n",
              "      <td>/content/drive/My Drive/id/id2/Base/p11/dis1.7...</td>\n",
              "      <td>id2</td>\n",
              "      <td>p11</td>\n",
              "    </tr>\n",
              "    <tr>\n",
              "      <th>...</th>\n",
              "      <td>...</td>\n",
              "      <td>...</td>\n",
              "      <td>...</td>\n",
              "      <td>...</td>\n",
              "    </tr>\n",
              "    <tr>\n",
              "      <th>243523</th>\n",
              "      <td>243523</td>\n",
              "      <td>/content/drive/My Drive/id/id12/Severe/p09/dis...</td>\n",
              "      <td>id12</td>\n",
              "      <td>p09</td>\n",
              "    </tr>\n",
              "    <tr>\n",
              "      <th>243524</th>\n",
              "      <td>243524</td>\n",
              "      <td>/content/drive/My Drive/id/id12/Severe/p09/dis...</td>\n",
              "      <td>id12</td>\n",
              "      <td>p09</td>\n",
              "    </tr>\n",
              "    <tr>\n",
              "      <th>243525</th>\n",
              "      <td>243525</td>\n",
              "      <td>/content/drive/My Drive/id/id12/Severe/p09/dis...</td>\n",
              "      <td>id12</td>\n",
              "      <td>p09</td>\n",
              "    </tr>\n",
              "    <tr>\n",
              "      <th>243526</th>\n",
              "      <td>243526</td>\n",
              "      <td>/content/drive/My Drive/id/id12/Severe/p09/dis...</td>\n",
              "      <td>id12</td>\n",
              "      <td>p09</td>\n",
              "    </tr>\n",
              "    <tr>\n",
              "      <th>243527</th>\n",
              "      <td>243527</td>\n",
              "      <td>/content/drive/My Drive/id/id12/Severe/p09/dis...</td>\n",
              "      <td>id12</td>\n",
              "      <td>p09</td>\n",
              "    </tr>\n",
              "  </tbody>\n",
              "</table>\n",
              "<p>243528 rows × 4 columns</p>\n",
              "</div>\n",
              "      <button class=\"colab-df-convert\" onclick=\"convertToInteractive('df-eeead8c8-8d81-47c3-97bd-e11f5c0aef76')\"\n",
              "              title=\"Convert this dataframe to an interactive table.\"\n",
              "              style=\"display:none;\">\n",
              "        \n",
              "  <svg xmlns=\"http://www.w3.org/2000/svg\" height=\"24px\"viewBox=\"0 0 24 24\"\n",
              "       width=\"24px\">\n",
              "    <path d=\"M0 0h24v24H0V0z\" fill=\"none\"/>\n",
              "    <path d=\"M18.56 5.44l.94 2.06.94-2.06 2.06-.94-2.06-.94-.94-2.06-.94 2.06-2.06.94zm-11 1L8.5 8.5l.94-2.06 2.06-.94-2.06-.94L8.5 2.5l-.94 2.06-2.06.94zm10 10l.94 2.06.94-2.06 2.06-.94-2.06-.94-.94-2.06-.94 2.06-2.06.94z\"/><path d=\"M17.41 7.96l-1.37-1.37c-.4-.4-.92-.59-1.43-.59-.52 0-1.04.2-1.43.59L10.3 9.45l-7.72 7.72c-.78.78-.78 2.05 0 2.83L4 21.41c.39.39.9.59 1.41.59.51 0 1.02-.2 1.41-.59l7.78-7.78 2.81-2.81c.8-.78.8-2.07 0-2.86zM5.41 20L4 18.59l7.72-7.72 1.47 1.35L5.41 20z\"/>\n",
              "  </svg>\n",
              "      </button>\n",
              "      \n",
              "  <style>\n",
              "    .colab-df-container {\n",
              "      display:flex;\n",
              "      flex-wrap:wrap;\n",
              "      gap: 12px;\n",
              "    }\n",
              "\n",
              "    .colab-df-convert {\n",
              "      background-color: #E8F0FE;\n",
              "      border: none;\n",
              "      border-radius: 50%;\n",
              "      cursor: pointer;\n",
              "      display: none;\n",
              "      fill: #1967D2;\n",
              "      height: 32px;\n",
              "      padding: 0 0 0 0;\n",
              "      width: 32px;\n",
              "    }\n",
              "\n",
              "    .colab-df-convert:hover {\n",
              "      background-color: #E2EBFA;\n",
              "      box-shadow: 0px 1px 2px rgba(60, 64, 67, 0.3), 0px 1px 3px 1px rgba(60, 64, 67, 0.15);\n",
              "      fill: #174EA6;\n",
              "    }\n",
              "\n",
              "    [theme=dark] .colab-df-convert {\n",
              "      background-color: #3B4455;\n",
              "      fill: #D2E3FC;\n",
              "    }\n",
              "\n",
              "    [theme=dark] .colab-df-convert:hover {\n",
              "      background-color: #434B5C;\n",
              "      box-shadow: 0px 1px 3px 1px rgba(0, 0, 0, 0.15);\n",
              "      filter: drop-shadow(0px 1px 2px rgba(0, 0, 0, 0.3));\n",
              "      fill: #FFFFFF;\n",
              "    }\n",
              "  </style>\n",
              "\n",
              "      <script>\n",
              "        const buttonEl =\n",
              "          document.querySelector('#df-eeead8c8-8d81-47c3-97bd-e11f5c0aef76 button.colab-df-convert');\n",
              "        buttonEl.style.display =\n",
              "          google.colab.kernel.accessAllowed ? 'block' : 'none';\n",
              "\n",
              "        async function convertToInteractive(key) {\n",
              "          const element = document.querySelector('#df-eeead8c8-8d81-47c3-97bd-e11f5c0aef76');\n",
              "          const dataTable =\n",
              "            await google.colab.kernel.invokeFunction('convertToInteractive',\n",
              "                                                     [key], {});\n",
              "          if (!dataTable) return;\n",
              "\n",
              "          const docLinkHtml = 'Like what you see? Visit the ' +\n",
              "            '<a target=\"_blank\" href=https://colab.research.google.com/notebooks/data_table.ipynb>data table notebook</a>'\n",
              "            + ' to learn more about interactive tables.';\n",
              "          element.innerHTML = '';\n",
              "          dataTable['output_type'] = 'display_data';\n",
              "          await google.colab.output.renderOutput(dataTable, element);\n",
              "          const docLink = document.createElement('div');\n",
              "          docLink.innerHTML = docLinkHtml;\n",
              "          element.appendChild(docLink);\n",
              "        }\n",
              "      </script>\n",
              "    </div>\n",
              "  </div>\n",
              "  "
            ]
          },
          "metadata": {},
          "execution_count": 4
        }
      ]
    },
    {
      "cell_type": "markdown",
      "source": [
        "## แบ่งข้อมูล Train & Test"
      ],
      "metadata": {
        "id": "f_fqwAKOq2mP"
      }
    },
    {
      "cell_type": "code",
      "source": [
        "train = df[df['Unnamed: 0'].between(0,190079)]\n",
        "test = df[df['Unnamed: 0'].between(190080,243527)]"
      ],
      "metadata": {
        "id": "iTnGrh8PrE4X"
      },
      "execution_count": null,
      "outputs": []
    },
    {
      "cell_type": "code",
      "source": [
        "DATA_PATH = \"/content/drive/My Drive/id\"\n",
        "os.chdir(DATA_PATH)\n",
        "train_dir = os.path.join(DATA_PATH, 'train')\n",
        "print(train_dir)\n",
        "test_dir = os.path.join(DATA_PATH, 'test')\n",
        "print(test_dir)"
      ],
      "metadata": {
        "colab": {
          "base_uri": "https://localhost:8080/"
        },
        "id": "WFFC26GoqXXH",
        "outputId": "d6722316-850b-4589-a320-8758c1678df6"
      },
      "execution_count": null,
      "outputs": [
        {
          "output_type": "stream",
          "name": "stdout",
          "text": [
            "/content/drive/My Drive/id/train\n",
            "/content/drive/My Drive/id/test\n"
          ]
        }
      ]
    },
    {
      "cell_type": "markdown",
      "source": [
        "## Train "
      ],
      "metadata": {
        "id": "vZnQOjj3rlsX"
      }
    },
    {
      "cell_type": "code",
      "source": [
        "# Train ด้วย ImageDataGenerator ของ Keras ซึ่งจะเพิ่มข้อมูลเสริมระหว่างการฝึกเพื่อลดโอกาสเกิด overfitting\n",
        "#overfitting เกิดจากข้อมูลที่ซับซ้อนกันเกินไป\n",
        "from tensorflow.keras.preprocessing.image import ImageDataGenerator\n",
        "\n",
        "train_datagen = ImageDataGenerator(\n",
        "      rescale=1./255, #โมเดลส่วนใหญ่ต้องใช้ RGB ในช่วง 0–1\n",
        "      rotation_range=40,\n",
        "      width_shift_range=0.2,\n",
        "      height_shift_range=0.2,\n",
        "      shear_range=0.2,\n",
        "      zoom_range=0.2,\n",
        "      horizontal_flip=True,\n",
        "      fill_mode='nearest')\n",
        "\n",
        "# Note that the validation data should not be augmented!\n",
        "test_datagen = ImageDataGenerator(rescale=1./255)"
      ],
      "metadata": {
        "id": "BN3gDb3xrVgP"
      },
      "execution_count": null,
      "outputs": []
    },
    {
      "cell_type": "code",
      "source": [
        "train_generator = train_datagen.flow_from_dataframe(\n",
        "        dataframe = train,\n",
        "        directory = train_dir,\n",
        "        x_col = 'Path_Name',\n",
        "        y_col = 'Part',\n",
        "        target_size=(height, width),\n",
        "        batch_size=batch_size)\n",
        "\n",
        "test_generator = test_datagen.flow_from_dataframe(\n",
        "        dataframe = test,\n",
        "        directory = test_dir,\n",
        "        x_col = 'Path_Name',\n",
        "        y_col = 'Part',\n",
        "        target_size=(height, width),\n",
        "        batch_size=batch_size)"
      ],
      "metadata": {
        "colab": {
          "base_uri": "https://localhost:8080/"
        },
        "id": "wo-hV07dro8i",
        "outputId": "11a6a40b-7a28-44d8-acad-d35eaccc1a8e"
      },
      "execution_count": null,
      "outputs": [
        {
          "output_type": "stream",
          "name": "stdout",
          "text": [
            "Found 190080 validated image filenames belonging to 15 classes.\n",
            "Found 53448 validated image filenames belonging to 15 classes.\n"
          ]
        }
      ]
    },
    {
      "cell_type": "markdown",
      "source": [
        "## load model"
      ],
      "metadata": {
        "id": "UjiYtNHdtYyx"
      }
    },
    {
      "cell_type": "code",
      "source": [
        "import os\n",
        "%cd /content\n",
        "if not os.path.isdir(\"efficientnet_keras_transfer_learning\"):\n",
        " !git clone https://github.com/Wanita-8943/efficientnet_keras_transfer_learning\n",
        "%cd efficientnet_keras_transfer_learning/"
      ],
      "metadata": {
        "id": "b8FfRx6EtdR3"
      },
      "execution_count": null,
      "outputs": []
    },
    {
      "cell_type": "code",
      "source": [
        "import sys\n",
        "sys.path.append('/content/drive/My Drive/Model/Train_id2_id6_id8_id10_Test_id12_500.h5')\n",
        "\n",
        "from efficientnet.layers import Swish, DropConnect\n",
        "from efficientnet.model import ConvKernalInitializer\n",
        "from tensorflow.keras.utils import get_custom_objects\n",
        "\n",
        "get_custom_objects().update({\n",
        "    'ConvKernalInitializer': ConvKernalInitializer,\n",
        "    'Swish': Swish,\n",
        "    'DropConnect':DropConnect\n",
        "})"
      ],
      "metadata": {
        "id": "YRAvorxhte0A"
      },
      "execution_count": null,
      "outputs": []
    },
    {
      "cell_type": "code",
      "source": [
        "#load model \n",
        "from tensorflow.keras.models import load_model\n",
        "model = load_model('/content/drive/My Drive/Model/Train_id2_id6_id8_id10_Test_id12_500.h5')\n",
        "height = width = model.input_shape[1]"
      ],
      "metadata": {
        "id": "dxPPXNUKtikC"
      },
      "execution_count": null,
      "outputs": []
    },
    {
      "cell_type": "code",
      "source": [
        "model.summary()"
      ],
      "metadata": {
        "colab": {
          "base_uri": "https://localhost:8080/"
        },
        "id": "gt7L2NUBxXWg",
        "outputId": "dd1165e1-9d6e-401d-9e76-e9f88c3d8910"
      },
      "execution_count": null,
      "outputs": [
        {
          "output_type": "stream",
          "name": "stdout",
          "text": [
            "Model: \"sequential\"\n",
            "_________________________________________________________________\n",
            " Layer (type)                Output Shape              Param #   \n",
            "=================================================================\n",
            " efficientnet-b0 (Functional  (None, 5, 5, 1280)       4049564   \n",
            " )                                                               \n",
            "                                                                 \n",
            " gap (GlobalMaxPooling2D)    (None, 1280)              0         \n",
            "                                                                 \n",
            " dropout_out (Dropout)       (None, 1280)              0         \n",
            "                                                                 \n",
            " fc_out (Dense)              (None, 15)                19215     \n",
            "                                                                 \n",
            "=================================================================\n",
            "Total params: 4,068,779\n",
            "Trainable params: 19,215\n",
            "Non-trainable params: 4,049,564\n",
            "_________________________________________________________________\n"
          ]
        }
      ]
    },
    {
      "cell_type": "markdown",
      "source": [
        "## unfreeze"
      ],
      "metadata": {
        "id": "64Vc8I6VtE37"
      }
    },
    {
      "cell_type": "code",
      "source": [
        "conv_base.trainable = True\n",
        "\n",
        "set_trainable = False\n",
        "for layer in conv_base.layers:\n",
        "    if layer.name == 'multiply_15':\n",
        "        set_trainable = True\n",
        "    if set_trainable:\n",
        "        layer.trainable = True\n",
        "    else:\n",
        "        layer.trainable = False\n",
        "print('This is the number of trainable layers '\n",
        "      'after freezing the conv base:', len(model.trainable_weights))"
      ],
      "metadata": {
        "colab": {
          "base_uri": "https://localhost:8080/"
        },
        "id": "ZZZOrDqerwCd",
        "outputId": "71c81725-9a5d-4d47-f336-672eb99aa165"
      },
      "execution_count": null,
      "outputs": [
        {
          "output_type": "stream",
          "name": "stdout",
          "text": [
            "This is the number of trainable layers after freezing the conv base: 8\n"
          ]
        }
      ]
    },
    {
      "cell_type": "code",
      "source": [
        "model.summary()"
      ],
      "metadata": {
        "id": "-u--j_Eqtqkw"
      },
      "execution_count": null,
      "outputs": []
    },
    {
      "cell_type": "markdown",
      "source": [
        "## Training"
      ],
      "metadata": {
        "id": "qsnvst46uNcK"
      }
    },
    {
      "cell_type": "code",
      "source": [
        "model.compile(loss='categorical_crossentropy',\n",
        "              optimizer=optimizers.RMSprop(lr=2e-5),\n",
        "              metrics=['acc'])\n",
        "history = model.fit_generator(\n",
        "      train_generator,\n",
        "      steps_per_epoch= NUM_TRAIN //batch_size,\n",
        "      epochs=epochs,\n",
        "      validation_data=test_generator,\n",
        "      validation_steps= NUM_TEST //batch_size,\n",
        "      verbose=1,\n",
        "      use_multiprocessing=True,\n",
        "      workers=4)"
      ],
      "metadata": {
        "colab": {
          "base_uri": "https://localhost:8080/"
        },
        "id": "RFFXr47huRjL",
        "outputId": "c77b5698-47d0-411b-fd12-f00caed75c21"
      },
      "execution_count": null,
      "outputs": [
        {
          "output_type": "stream",
          "name": "stderr",
          "text": [
            "WARNING:absl:`lr` is deprecated, please use `learning_rate` instead, or use the legacy optimizer, e.g.,tf.keras.optimizers.legacy.RMSprop.\n",
            "<ipython-input-19-6ef5d1e0375e>:4: UserWarning: `Model.fit_generator` is deprecated and will be removed in a future version. Please use `Model.fit`, which supports generators.\n",
            "  history = model.fit_generator(\n"
          ]
        },
        {
          "output_type": "stream",
          "name": "stdout",
          "text": [
            "Epoch 1/100\n",
            "5/5 [==============================] - 42s 7s/step - loss: 6.7432 - acc: 0.1900 - val_loss: 4.6898 - val_acc: 0.2600\n",
            "Epoch 2/100\n",
            "5/5 [==============================] - 36s 7s/step - loss: 3.3817 - acc: 0.3600 - val_loss: 4.1140 - val_acc: 0.2800\n",
            "Epoch 3/100\n",
            "5/5 [==============================] - 34s 7s/step - loss: 3.7789 - acc: 0.2700 - val_loss: 4.3833 - val_acc: 0.2600\n",
            "Epoch 4/100\n",
            "5/5 [==============================] - 34s 7s/step - loss: 2.5640 - acc: 0.4800 - val_loss: 4.0162 - val_acc: 0.3900\n",
            "Epoch 5/100\n",
            "5/5 [==============================] - 34s 7s/step - loss: 2.9569 - acc: 0.4100 - val_loss: 3.5001 - val_acc: 0.3100\n",
            "Epoch 6/100\n",
            "5/5 [==============================] - 35s 6s/step - loss: 2.5089 - acc: 0.4900 - val_loss: 3.7797 - val_acc: 0.2800\n",
            "Epoch 7/100\n",
            "5/5 [==============================] - 34s 7s/step - loss: 2.6184 - acc: 0.5200 - val_loss: 5.7910 - val_acc: 0.2900\n",
            "Epoch 8/100\n",
            "5/5 [==============================] - 29s 5s/step - loss: 2.6068 - acc: 0.5100 - val_loss: 4.0128 - val_acc: 0.2800\n",
            "Epoch 9/100\n",
            "5/5 [==============================] - 26s 5s/step - loss: 2.0700 - acc: 0.5300 - val_loss: 3.7380 - val_acc: 0.3800\n",
            "Epoch 10/100\n",
            "5/5 [==============================] - 25s 4s/step - loss: 2.2115 - acc: 0.5400 - val_loss: 5.1745 - val_acc: 0.3200\n",
            "Epoch 11/100\n",
            "5/5 [==============================] - 33s 6s/step - loss: 2.3033 - acc: 0.5300 - val_loss: 3.3429 - val_acc: 0.4700\n",
            "Epoch 12/100\n",
            "5/5 [==============================] - 25s 5s/step - loss: 2.1451 - acc: 0.5000 - val_loss: 3.6497 - val_acc: 0.3200\n",
            "Epoch 13/100\n",
            "5/5 [==============================] - 35s 7s/step - loss: 1.7451 - acc: 0.5600 - val_loss: 3.0622 - val_acc: 0.3000\n",
            "Epoch 14/100\n",
            "5/5 [==============================] - 27s 5s/step - loss: 2.2151 - acc: 0.4800 - val_loss: 3.1262 - val_acc: 0.3600\n",
            "Epoch 15/100\n",
            "5/5 [==============================] - 34s 7s/step - loss: 2.0541 - acc: 0.5000 - val_loss: 3.4556 - val_acc: 0.2300\n",
            "Epoch 16/100\n",
            "5/5 [==============================] - 24s 4s/step - loss: 2.3136 - acc: 0.5200 - val_loss: 3.2501 - val_acc: 0.3600\n",
            "Epoch 17/100\n",
            "5/5 [==============================] - 26s 4s/step - loss: 1.7824 - acc: 0.5900 - val_loss: 3.1722 - val_acc: 0.3700\n",
            "Epoch 18/100\n",
            "5/5 [==============================] - 24s 4s/step - loss: 2.3104 - acc: 0.5200 - val_loss: 3.2203 - val_acc: 0.3800\n",
            "Epoch 19/100\n",
            "5/5 [==============================] - 60s 13s/step - loss: 1.8746 - acc: 0.5800 - val_loss: 2.7522 - val_acc: 0.3700\n",
            "Epoch 20/100\n",
            "5/5 [==============================] - 24s 4s/step - loss: 2.4408 - acc: 0.4700 - val_loss: 3.0493 - val_acc: 0.3500\n",
            "Epoch 21/100\n",
            "5/5 [==============================] - 34s 7s/step - loss: 1.7177 - acc: 0.5600 - val_loss: 2.8449 - val_acc: 0.4900\n",
            "Epoch 22/100\n",
            "5/5 [==============================] - 33s 6s/step - loss: 1.8530 - acc: 0.5600 - val_loss: 4.1757 - val_acc: 0.4300\n",
            "Epoch 23/100\n",
            "5/5 [==============================] - 23s 4s/step - loss: 1.9915 - acc: 0.4700 - val_loss: 4.1383 - val_acc: 0.3900\n",
            "Epoch 24/100\n",
            "5/5 [==============================] - 26s 4s/step - loss: 1.9289 - acc: 0.5200 - val_loss: 3.8511 - val_acc: 0.3000\n",
            "Epoch 25/100\n",
            "5/5 [==============================] - 34s 6s/step - loss: 1.8498 - acc: 0.5800 - val_loss: 3.9845 - val_acc: 0.3600\n",
            "Epoch 26/100\n",
            "5/5 [==============================] - 23s 4s/step - loss: 1.6528 - acc: 0.6200 - val_loss: 3.4777 - val_acc: 0.2800\n",
            "Epoch 27/100\n",
            "5/5 [==============================] - 24s 4s/step - loss: 1.6028 - acc: 0.5500 - val_loss: 3.3951 - val_acc: 0.2800\n",
            "Epoch 28/100\n",
            "5/5 [==============================] - 23s 4s/step - loss: 1.5529 - acc: 0.5600 - val_loss: 3.3543 - val_acc: 0.4200\n",
            "Epoch 29/100\n",
            "5/5 [==============================] - 24s 4s/step - loss: 1.5461 - acc: 0.5900 - val_loss: 3.5437 - val_acc: 0.4800\n",
            "Epoch 30/100\n",
            "5/5 [==============================] - 25s 4s/step - loss: 1.9870 - acc: 0.5100 - val_loss: 3.5526 - val_acc: 0.4000\n",
            "Epoch 31/100\n",
            "5/5 [==============================] - 27s 5s/step - loss: 1.4160 - acc: 0.5900 - val_loss: 3.7003 - val_acc: 0.3200\n",
            "Epoch 32/100\n",
            "5/5 [==============================] - 34s 7s/step - loss: 2.1477 - acc: 0.4500 - val_loss: 3.5073 - val_acc: 0.4100\n",
            "Epoch 33/100\n",
            "5/5 [==============================] - 23s 4s/step - loss: 1.5399 - acc: 0.6200 - val_loss: 3.3866 - val_acc: 0.4000\n",
            "Epoch 34/100\n",
            "5/5 [==============================] - 33s 6s/step - loss: 1.5583 - acc: 0.5500 - val_loss: 4.0232 - val_acc: 0.4400\n",
            "Epoch 35/100\n",
            "5/5 [==============================] - 25s 4s/step - loss: 1.9200 - acc: 0.5700 - val_loss: 5.1635 - val_acc: 0.3100\n",
            "Epoch 36/100\n",
            "5/5 [==============================] - 23s 4s/step - loss: 1.6957 - acc: 0.5700 - val_loss: 3.4491 - val_acc: 0.4500\n",
            "Epoch 37/100\n",
            "5/5 [==============================] - 32s 6s/step - loss: 1.3180 - acc: 0.6000 - val_loss: 3.3779 - val_acc: 0.3300\n",
            "Epoch 38/100\n",
            "5/5 [==============================] - 23s 4s/step - loss: 1.4933 - acc: 0.5400 - val_loss: 3.7348 - val_acc: 0.4100\n",
            "Epoch 39/100\n",
            "5/5 [==============================] - 34s 6s/step - loss: 1.6798 - acc: 0.5100 - val_loss: 2.7474 - val_acc: 0.4600\n",
            "Epoch 40/100\n",
            "5/5 [==============================] - 26s 5s/step - loss: 1.5887 - acc: 0.6100 - val_loss: 5.9366 - val_acc: 0.3300\n",
            "Epoch 41/100\n",
            "5/5 [==============================] - 31s 6s/step - loss: 1.8240 - acc: 0.5000 - val_loss: 3.8724 - val_acc: 0.4500\n",
            "Epoch 42/100\n",
            "5/5 [==============================] - 28s 5s/step - loss: 1.5638 - acc: 0.5400 - val_loss: 2.3055 - val_acc: 0.4500\n",
            "Epoch 43/100\n",
            "5/5 [==============================] - 24s 4s/step - loss: 1.9329 - acc: 0.5000 - val_loss: 2.5923 - val_acc: 0.5400\n",
            "Epoch 44/100\n",
            "5/5 [==============================] - 24s 4s/step - loss: 1.2658 - acc: 0.6000 - val_loss: 3.3812 - val_acc: 0.4400\n",
            "Epoch 45/100\n",
            "5/5 [==============================] - 22s 4s/step - loss: 1.3071 - acc: 0.6300 - val_loss: 3.4394 - val_acc: 0.4000\n",
            "Epoch 46/100\n",
            "5/5 [==============================] - 23s 4s/step - loss: 1.3916 - acc: 0.6100 - val_loss: 3.1308 - val_acc: 0.4100\n",
            "Epoch 47/100\n",
            "5/5 [==============================] - 22s 4s/step - loss: 1.2920 - acc: 0.5800 - val_loss: 3.3211 - val_acc: 0.3300\n",
            "Epoch 48/100\n",
            "5/5 [==============================] - 24s 4s/step - loss: 1.5977 - acc: 0.5400 - val_loss: 3.7394 - val_acc: 0.2700\n",
            "Epoch 49/100\n",
            "5/5 [==============================] - 25s 4s/step - loss: 1.6203 - acc: 0.5600 - val_loss: 2.9711 - val_acc: 0.4300\n",
            "Epoch 50/100\n",
            "5/5 [==============================] - 20s 4s/step - loss: 1.5668 - acc: 0.6000 - val_loss: 4.0412 - val_acc: 0.3700\n",
            "Epoch 51/100\n",
            "5/5 [==============================] - 25s 4s/step - loss: 1.5956 - acc: 0.5500 - val_loss: 3.3816 - val_acc: 0.2700\n",
            "Epoch 52/100\n",
            "5/5 [==============================] - 22s 4s/step - loss: 1.8337 - acc: 0.5100 - val_loss: 3.0911 - val_acc: 0.4100\n",
            "Epoch 53/100\n",
            "5/5 [==============================] - 23s 4s/step - loss: 1.3451 - acc: 0.6300 - val_loss: 4.2003 - val_acc: 0.4000\n",
            "Epoch 54/100\n",
            "5/5 [==============================] - 26s 5s/step - loss: 1.5280 - acc: 0.5300 - val_loss: 2.4224 - val_acc: 0.4800\n",
            "Epoch 55/100\n",
            "5/5 [==============================] - 22s 4s/step - loss: 1.1401 - acc: 0.6000 - val_loss: 3.3665 - val_acc: 0.4800\n",
            "Epoch 56/100\n",
            "5/5 [==============================] - 23s 4s/step - loss: 1.1216 - acc: 0.6000 - val_loss: 3.7801 - val_acc: 0.3800\n",
            "Epoch 57/100\n",
            "5/5 [==============================] - 23s 4s/step - loss: 1.6071 - acc: 0.5700 - val_loss: 3.9848 - val_acc: 0.4200\n",
            "Epoch 58/100\n",
            "5/5 [==============================] - 26s 5s/step - loss: 1.1924 - acc: 0.6100 - val_loss: 3.3200 - val_acc: 0.4100\n",
            "Epoch 59/100\n",
            "5/5 [==============================] - 22s 4s/step - loss: 1.7463 - acc: 0.5600 - val_loss: 3.4587 - val_acc: 0.4200\n",
            "Epoch 60/100\n",
            "5/5 [==============================] - 32s 6s/step - loss: 1.2449 - acc: 0.6200 - val_loss: 3.9738 - val_acc: 0.3400\n",
            "Epoch 61/100\n",
            "5/5 [==============================] - 29s 6s/step - loss: 1.7138 - acc: 0.4800 - val_loss: 4.0828 - val_acc: 0.3600\n",
            "Epoch 62/100\n",
            "5/5 [==============================] - 21s 3s/step - loss: 1.3525 - acc: 0.5200 - val_loss: 3.7403 - val_acc: 0.3300\n",
            "Epoch 63/100\n",
            "5/5 [==============================] - 24s 4s/step - loss: 1.2562 - acc: 0.5600 - val_loss: 2.9803 - val_acc: 0.4300\n",
            "Epoch 64/100\n",
            "5/5 [==============================] - 23s 4s/step - loss: 1.0282 - acc: 0.6500 - val_loss: 3.1351 - val_acc: 0.3400\n",
            "Epoch 65/100\n",
            "5/5 [==============================] - 34s 6s/step - loss: 1.1034 - acc: 0.6300 - val_loss: 2.8188 - val_acc: 0.4800\n",
            "Epoch 66/100\n",
            "5/5 [==============================] - 24s 4s/step - loss: 1.0842 - acc: 0.6100 - val_loss: 3.3435 - val_acc: 0.3100\n",
            "Epoch 67/100\n",
            "5/5 [==============================] - 20s 3s/step - loss: 1.0899 - acc: 0.6200 - val_loss: 3.8438 - val_acc: 0.3100\n",
            "Epoch 68/100\n",
            "5/5 [==============================] - 33s 6s/step - loss: 1.1812 - acc: 0.5700 - val_loss: 2.3691 - val_acc: 0.4200\n",
            "Epoch 69/100\n",
            "5/5 [==============================] - 21s 4s/step - loss: 1.0472 - acc: 0.6500 - val_loss: 3.3327 - val_acc: 0.4700\n",
            "Epoch 70/100\n",
            "5/5 [==============================] - 21s 4s/step - loss: 0.9476 - acc: 0.6400 - val_loss: 3.5765 - val_acc: 0.4000\n",
            "Epoch 71/100\n",
            "5/5 [==============================] - 23s 4s/step - loss: 1.1816 - acc: 0.5600 - val_loss: 3.5756 - val_acc: 0.4200\n",
            "Epoch 72/100\n",
            "5/5 [==============================] - 20s 3s/step - loss: 1.1983 - acc: 0.5800 - val_loss: 3.7313 - val_acc: 0.3700\n",
            "Epoch 73/100\n",
            "5/5 [==============================] - 24s 4s/step - loss: 1.2721 - acc: 0.6100 - val_loss: 3.3792 - val_acc: 0.4800\n",
            "Epoch 74/100\n",
            "5/5 [==============================] - 23s 4s/step - loss: 0.8719 - acc: 0.7000 - val_loss: 3.3942 - val_acc: 0.3600\n",
            "Epoch 75/100\n",
            "5/5 [==============================] - 22s 4s/step - loss: 0.8945 - acc: 0.6700 - val_loss: 4.2574 - val_acc: 0.3200\n",
            "Epoch 76/100\n",
            "5/5 [==============================] - 23s 4s/step - loss: 1.0025 - acc: 0.6300 - val_loss: 2.9350 - val_acc: 0.4800\n",
            "Epoch 77/100\n",
            "5/5 [==============================] - 24s 4s/step - loss: 1.1356 - acc: 0.6300 - val_loss: 3.6006 - val_acc: 0.4500\n",
            "Epoch 78/100\n",
            "5/5 [==============================] - 34s 6s/step - loss: 1.2373 - acc: 0.5400 - val_loss: 2.1459 - val_acc: 0.5100\n",
            "Epoch 79/100\n",
            "5/5 [==============================] - 22s 4s/step - loss: 1.1526 - acc: 0.5200 - val_loss: 1.9225 - val_acc: 0.4500\n",
            "Epoch 80/100\n",
            "5/5 [==============================] - 22s 4s/step - loss: 1.3629 - acc: 0.5200 - val_loss: 2.6235 - val_acc: 0.4600\n",
            "Epoch 81/100\n",
            "5/5 [==============================] - 30s 6s/step - loss: 1.1869 - acc: 0.5400 - val_loss: 2.6335 - val_acc: 0.4500\n",
            "Epoch 82/100\n",
            "5/5 [==============================] - 22s 4s/step - loss: 1.3057 - acc: 0.5500 - val_loss: 2.8946 - val_acc: 0.3700\n",
            "Epoch 83/100\n",
            "5/5 [==============================] - 23s 4s/step - loss: 0.9881 - acc: 0.6500 - val_loss: 3.3296 - val_acc: 0.4600\n",
            "Epoch 84/100\n",
            "5/5 [==============================] - 33s 7s/step - loss: 1.1052 - acc: 0.5600 - val_loss: 2.2782 - val_acc: 0.4900\n",
            "Epoch 85/100\n",
            "5/5 [==============================] - 21s 3s/step - loss: 0.9706 - acc: 0.6600 - val_loss: 2.7171 - val_acc: 0.4500\n",
            "Epoch 86/100\n",
            "5/5 [==============================] - 22s 3s/step - loss: 1.1856 - acc: 0.5700 - val_loss: 2.6496 - val_acc: 0.4800\n",
            "Epoch 87/100\n",
            "5/5 [==============================] - 21s 4s/step - loss: 1.2354 - acc: 0.5300 - val_loss: 3.1330 - val_acc: 0.3800\n",
            "Epoch 88/100\n",
            "5/5 [==============================] - 25s 4s/step - loss: 1.0789 - acc: 0.6100 - val_loss: 2.8040 - val_acc: 0.3700\n",
            "Epoch 89/100\n",
            "5/5 [==============================] - 23s 4s/step - loss: 1.0808 - acc: 0.5100 - val_loss: 2.5737 - val_acc: 0.5000\n",
            "Epoch 90/100\n",
            "5/5 [==============================] - 26s 5s/step - loss: 0.9058 - acc: 0.6100 - val_loss: 2.9735 - val_acc: 0.3800\n",
            "Epoch 91/100\n",
            "5/5 [==============================] - 23s 4s/step - loss: 0.9085 - acc: 0.6500 - val_loss: 3.1843 - val_acc: 0.4300\n",
            "Epoch 92/100\n",
            "5/5 [==============================] - 19s 3s/step - loss: 0.9084 - acc: 0.5800 - val_loss: 3.6104 - val_acc: 0.4100\n",
            "Epoch 93/100\n",
            "5/5 [==============================] - 33s 6s/step - loss: 1.0888 - acc: 0.5800 - val_loss: 2.2571 - val_acc: 0.5700\n",
            "Epoch 94/100\n",
            "5/5 [==============================] - 22s 4s/step - loss: 0.9474 - acc: 0.5900 - val_loss: 3.3057 - val_acc: 0.4200\n",
            "Epoch 95/100\n",
            "5/5 [==============================] - 23s 4s/step - loss: 1.1399 - acc: 0.5600 - val_loss: 2.7838 - val_acc: 0.5500\n",
            "Epoch 96/100\n",
            "5/5 [==============================] - 32s 6s/step - loss: 1.0550 - acc: 0.6000 - val_loss: 3.4720 - val_acc: 0.4200\n",
            "Epoch 97/100\n",
            "5/5 [==============================] - 38s 8s/step - loss: 0.9370 - acc: 0.6000 - val_loss: 2.2258 - val_acc: 0.4000\n",
            "Epoch 98/100\n",
            "5/5 [==============================] - 21s 4s/step - loss: 0.9264 - acc: 0.6400 - val_loss: 3.4100 - val_acc: 0.3800\n",
            "Epoch 99/100\n",
            "5/5 [==============================] - 22s 3s/step - loss: 1.2175 - acc: 0.5700 - val_loss: 2.0444 - val_acc: 0.4300\n",
            "Epoch 100/100\n",
            "5/5 [==============================] - 35s 7s/step - loss: 1.0414 - acc: 0.5900 - val_loss: 1.9833 - val_acc: 0.4500\n"
          ]
        }
      ]
    },
    {
      "cell_type": "code",
      "source": [
        "acc = history.history['acc']\n",
        "val_acc = history.history['val_acc']\n",
        "loss = history.history['loss']\n",
        "val_loss = history.history['val_loss']\n",
        "\n",
        "epochs_x = range(len(acc))\n",
        "\n",
        "plt.plot(epochs_x, acc, 'r', label='Training acc')\n",
        "plt.plot(epochs_x, val_acc, 'b', label='Validation acc')\n",
        "plt.title('Training and validation accuracy')\n",
        "plt.legend()\n",
        "\n",
        "plt.figure()\n",
        "\n",
        "plt.plot(epochs_x, loss, 'r', label='Training loss')\n",
        "plt.plot(epochs_x, val_loss, 'b', label='Validation loss')\n",
        "plt.title('Training and validation loss')\n",
        "plt.legend()\n",
        "\n",
        "plt.show()"
      ],
      "metadata": {
        "colab": {
          "base_uri": "https://localhost:8080/",
          "height": 545
        },
        "id": "xqRHYynFwGX5",
        "outputId": "2ea3f29c-fc36-491a-aade-b24dd271bede"
      },
      "execution_count": null,
      "outputs": [
        {
          "output_type": "display_data",
          "data": {
            "text/plain": [
              "<Figure size 432x288 with 1 Axes>"
            ],
            "image/png": "[encoded data removed]"
          },
          "metadata": {
            "needs_background": "light"
          }
        },
        {
          "output_type": "display_data",
          "data": {
            "text/plain": [
              "<Figure size 432x288 with 1 Axes>"
            ],
            "image/png": "[encoded data removed]"
          },
          "metadata": {
            "needs_background": "light"
          }
        }
      ]
    },
    {
      "cell_type": "markdown",
      "source": [
        "## save model"
      ],
      "metadata": {
        "id": "47qCM39MwI3A"
      }
    },
    {
      "cell_type": "code",
      "source": [
        "os.makedirs('/content/drive/MyDrive/Model', exist_ok=True)\n",
        "model.save('/content/drive/My Drive/Model/Train_id2_id6_id8_id10_Test_id12_100_Unfreeze.h5')"
      ],
      "metadata": {
        "id": "WIpGZqcrwH6Y"
      },
      "execution_count": null,
      "outputs": []
    },
    {
      "cell_type": "code",
      "source": [
        "from google.colab import files"
      ],
      "metadata": {
        "id": "49wvzRpCwVK2"
      },
      "execution_count": null,
      "outputs": []
    }
  ]
}