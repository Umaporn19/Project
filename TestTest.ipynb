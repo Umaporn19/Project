{
  "nbformat": 4,
  "nbformat_minor": 0,
  "metadata": {
    "colab": {
      "provenance": [],
      "authorship_tag": "ABX9TyM0bpAP1vf9WMEjo5ZgHFgu",
      "include_colab_link": true
    },
    "kernelspec": {
      "name": "python3",
      "display_name": "Python 3"
    },
    "language_info": {
      "name": "python"
    }
  },
  "cells": [
    {
      "cell_type": "markdown",
      "metadata": {
        "id": "view-in-github",
        "colab_type": "text"
      },
      "source": [
        "<a href=\"https://colab.research.google.com/github/Umaporn19/Project/blob/main/TestTest.ipynb\" target=\"_parent\"><img src=\"https://colab.research.google.com/assets/colab-badge.svg\" alt=\"Open In Colab\"/></a>"
      ]
    },
    {
      "cell_type": "code",
      "execution_count": 64,
      "metadata": {
        "colab": {
          "base_uri": "https://localhost:8080/"
        },
        "id": "X4w6ao54nSOb",
        "outputId": "590299cc-0dd1-4494-dc31-59ed673051cb"
      },
      "outputs": [
        {
          "output_type": "stream",
          "name": "stdout",
          "text": [
            "Drive already mounted at /content/drive; to attempt to forcibly remount, call drive.mount(\"/content/drive\", force_remount=True).\n"
          ]
        }
      ],
      "source": [
        "from google.colab import drive\n",
        "drive.mount('/content/drive')"
      ]
    },
    {
      "cell_type": "code",
      "source": [
        "import pandas as pd\n",
        "import numpy as np"
      ],
      "metadata": {
        "id": "R4RqlidVnUZo"
      },
      "execution_count": 65,
      "outputs": []
    },
    {
      "cell_type": "code",
      "source": [
        "import os\n",
        "%cd /content\n",
        "if not os.path.isdir(\"efficientnet_keras_transfer_learning\"):\n",
        " !git clone https://github.com/Wanita-8943/efficientnet_keras_transfer_learning\n",
        "%cd efficientnet_keras_transfer_learning/"
      ],
      "metadata": {
        "id": "sJ31_H2dnUXg",
        "outputId": "3ee41191-3956-4475-c577-1adc2e0209f2",
        "colab": {
          "base_uri": "https://localhost:8080/"
        }
      },
      "execution_count": 66,
      "outputs": [
        {
          "output_type": "stream",
          "name": "stdout",
          "text": [
            "/content\n",
            "/content/efficientnet_keras_transfer_learning\n"
          ]
        }
      ]
    },
    {
      "cell_type": "code",
      "source": [
        "df = pd.read_csv (r'/content/drive/MyDrive/data/Test.csv')\n",
        "df"
      ],
      "metadata": {
        "id": "EoFw7uJsnUVQ",
        "outputId": "0f9be869-4c15-4692-88e8-73753c2fa2b1",
        "colab": {
          "base_uri": "https://localhost:8080/",
          "height": 423
        }
      },
      "execution_count": 67,
      "outputs": [
        {
          "output_type": "execute_result",
          "data": {
            "text/plain": [
              "        Unnamed: 0                                          Path_Name    id  \\\n",
              "0                0  /content/drive/My Drive/id/id2/Base/p11/dis1.7...   id2   \n",
              "1                1  /content/drive/My Drive/id/id2/Base/p11/dis1.7...   id2   \n",
              "2                2  /content/drive/My Drive/id/id2/Base/p11/dis1.7...   id2   \n",
              "3                3  /content/drive/My Drive/id/id2/Base/p11/dis1.7...   id2   \n",
              "4                4  /content/drive/My Drive/id/id2/Base/p11/dis1.7...   id2   \n",
              "...            ...                                                ...   ...   \n",
              "190090      190090  /content/drive/My Drive/id/id12/Base/p05/dis1....  id12   \n",
              "190091      190091  /content/drive/My Drive/id/id12/Base/p06/dis1....  id12   \n",
              "190092      190092  /content/drive/My Drive/id/id12/Base/p07/dis1....  id12   \n",
              "190093      190093  /content/drive/My Drive/id/id12/Base/p08/dis1....  id12   \n",
              "190094      190094  /content/drive/My Drive/id/id12/Base/p09/dis1....  id12   \n",
              "\n",
              "       Part  \n",
              "0       p11  \n",
              "1       p11  \n",
              "2       p11  \n",
              "3       p11  \n",
              "4       p11  \n",
              "...     ...  \n",
              "190090  p05  \n",
              "190091  p06  \n",
              "190092  p07  \n",
              "190093  p08  \n",
              "190094  p09  \n",
              "\n",
              "[190095 rows x 4 columns]"
            ],
            "text/html": [
              "\n",
              "  <div id=\"df-835fee17-616a-4cf1-ab78-3f3eccfe05d5\">\n",
              "    <div class=\"colab-df-container\">\n",
              "      <div>\n",
              "<style scoped>\n",
              "    .dataframe tbody tr th:only-of-type {\n",
              "        vertical-align: middle;\n",
              "    }\n",
              "\n",
              "    .dataframe tbody tr th {\n",
              "        vertical-align: top;\n",
              "    }\n",
              "\n",
              "    .dataframe thead th {\n",
              "        text-align: right;\n",
              "    }\n",
              "</style>\n",
              "<table border=\"1\" class=\"dataframe\">\n",
              "  <thead>\n",
              "    <tr style=\"text-align: right;\">\n",
              "      <th></th>\n",
              "      <th>Unnamed: 0</th>\n",
              "      <th>Path_Name</th>\n",
              "      <th>id</th>\n",
              "      <th>Part</th>\n",
              "    </tr>\n",
              "  </thead>\n",
              "  <tbody>\n",
              "    <tr>\n",
              "      <th>0</th>\n",
              "      <td>0</td>\n",
              "      <td>/content/drive/My Drive/id/id2/Base/p11/dis1.7...</td>\n",
              "      <td>id2</td>\n",
              "      <td>p11</td>\n",
              "    </tr>\n",
              "    <tr>\n",
              "      <th>1</th>\n",
              "      <td>1</td>\n",
              "      <td>/content/drive/My Drive/id/id2/Base/p11/dis1.7...</td>\n",
              "      <td>id2</td>\n",
              "      <td>p11</td>\n",
              "    </tr>\n",
              "    <tr>\n",
              "      <th>2</th>\n",
              "      <td>2</td>\n",
              "      <td>/content/drive/My Drive/id/id2/Base/p11/dis1.7...</td>\n",
              "      <td>id2</td>\n",
              "      <td>p11</td>\n",
              "    </tr>\n",
              "    <tr>\n",
              "      <th>3</th>\n",
              "      <td>3</td>\n",
              "      <td>/content/drive/My Drive/id/id2/Base/p11/dis1.7...</td>\n",
              "      <td>id2</td>\n",
              "      <td>p11</td>\n",
              "    </tr>\n",
              "    <tr>\n",
              "      <th>4</th>\n",
              "      <td>4</td>\n",
              "      <td>/content/drive/My Drive/id/id2/Base/p11/dis1.7...</td>\n",
              "      <td>id2</td>\n",
              "      <td>p11</td>\n",
              "    </tr>\n",
              "    <tr>\n",
              "      <th>...</th>\n",
              "      <td>...</td>\n",
              "      <td>...</td>\n",
              "      <td>...</td>\n",
              "      <td>...</td>\n",
              "    </tr>\n",
              "    <tr>\n",
              "      <th>190090</th>\n",
              "      <td>190090</td>\n",
              "      <td>/content/drive/My Drive/id/id12/Base/p05/dis1....</td>\n",
              "      <td>id12</td>\n",
              "      <td>p05</td>\n",
              "    </tr>\n",
              "    <tr>\n",
              "      <th>190091</th>\n",
              "      <td>190091</td>\n",
              "      <td>/content/drive/My Drive/id/id12/Base/p06/dis1....</td>\n",
              "      <td>id12</td>\n",
              "      <td>p06</td>\n",
              "    </tr>\n",
              "    <tr>\n",
              "      <th>190092</th>\n",
              "      <td>190092</td>\n",
              "      <td>/content/drive/My Drive/id/id12/Base/p07/dis1....</td>\n",
              "      <td>id12</td>\n",
              "      <td>p07</td>\n",
              "    </tr>\n",
              "    <tr>\n",
              "      <th>190093</th>\n",
              "      <td>190093</td>\n",
              "      <td>/content/drive/My Drive/id/id12/Base/p08/dis1....</td>\n",
              "      <td>id12</td>\n",
              "      <td>p08</td>\n",
              "    </tr>\n",
              "    <tr>\n",
              "      <th>190094</th>\n",
              "      <td>190094</td>\n",
              "      <td>/content/drive/My Drive/id/id12/Base/p09/dis1....</td>\n",
              "      <td>id12</td>\n",
              "      <td>p09</td>\n",
              "    </tr>\n",
              "  </tbody>\n",
              "</table>\n",
              "<p>190095 rows × 4 columns</p>\n",
              "</div>\n",
              "      <button class=\"colab-df-convert\" onclick=\"convertToInteractive('df-835fee17-616a-4cf1-ab78-3f3eccfe05d5')\"\n",
              "              title=\"Convert this dataframe to an interactive table.\"\n",
              "              style=\"display:none;\">\n",
              "        \n",
              "  <svg xmlns=\"http://www.w3.org/2000/svg\" height=\"24px\"viewBox=\"0 0 24 24\"\n",
              "       width=\"24px\">\n",
              "    <path d=\"M0 0h24v24H0V0z\" fill=\"none\"/>\n",
              "    <path d=\"M18.56 5.44l.94 2.06.94-2.06 2.06-.94-2.06-.94-.94-2.06-.94 2.06-2.06.94zm-11 1L8.5 8.5l.94-2.06 2.06-.94-2.06-.94L8.5 2.5l-.94 2.06-2.06.94zm10 10l.94 2.06.94-2.06 2.06-.94-2.06-.94-.94-2.06-.94 2.06-2.06.94z\"/><path d=\"M17.41 7.96l-1.37-1.37c-.4-.4-.92-.59-1.43-.59-.52 0-1.04.2-1.43.59L10.3 9.45l-7.72 7.72c-.78.78-.78 2.05 0 2.83L4 21.41c.39.39.9.59 1.41.59.51 0 1.02-.2 1.41-.59l7.78-7.78 2.81-2.81c.8-.78.8-2.07 0-2.86zM5.41 20L4 18.59l7.72-7.72 1.47 1.35L5.41 20z\"/>\n",
              "  </svg>\n",
              "      </button>\n",
              "      \n",
              "  <style>\n",
              "    .colab-df-container {\n",
              "      display:flex;\n",
              "      flex-wrap:wrap;\n",
              "      gap: 12px;\n",
              "    }\n",
              "\n",
              "    .colab-df-convert {\n",
              "      background-color: #E8F0FE;\n",
              "      border: none;\n",
              "      border-radius: 50%;\n",
              "      cursor: pointer;\n",
              "      display: none;\n",
              "      fill: #1967D2;\n",
              "      height: 32px;\n",
              "      padding: 0 0 0 0;\n",
              "      width: 32px;\n",
              "    }\n",
              "\n",
              "    .colab-df-convert:hover {\n",
              "      background-color: #E2EBFA;\n",
              "      box-shadow: 0px 1px 2px rgba(60, 64, 67, 0.3), 0px 1px 3px 1px rgba(60, 64, 67, 0.15);\n",
              "      fill: #174EA6;\n",
              "    }\n",
              "\n",
              "    [theme=dark] .colab-df-convert {\n",
              "      background-color: #3B4455;\n",
              "      fill: #D2E3FC;\n",
              "    }\n",
              "\n",
              "    [theme=dark] .colab-df-convert:hover {\n",
              "      background-color: #434B5C;\n",
              "      box-shadow: 0px 1px 3px 1px rgba(0, 0, 0, 0.15);\n",
              "      filter: drop-shadow(0px 1px 2px rgba(0, 0, 0, 0.3));\n",
              "      fill: #FFFFFF;\n",
              "    }\n",
              "  </style>\n",
              "\n",
              "      <script>\n",
              "        const buttonEl =\n",
              "          document.querySelector('#df-835fee17-616a-4cf1-ab78-3f3eccfe05d5 button.colab-df-convert');\n",
              "        buttonEl.style.display =\n",
              "          google.colab.kernel.accessAllowed ? 'block' : 'none';\n",
              "\n",
              "        async function convertToInteractive(key) {\n",
              "          const element = document.querySelector('#df-835fee17-616a-4cf1-ab78-3f3eccfe05d5');\n",
              "          const dataTable =\n",
              "            await google.colab.kernel.invokeFunction('convertToInteractive',\n",
              "                                                     [key], {});\n",
              "          if (!dataTable) return;\n",
              "\n",
              "          const docLinkHtml = 'Like what you see? Visit the ' +\n",
              "            '<a target=\"_blank\" href=https://colab.research.google.com/notebooks/data_table.ipynb>data table notebook</a>'\n",
              "            + ' to learn more about interactive tables.';\n",
              "          element.innerHTML = '';\n",
              "          dataTable['output_type'] = 'display_data';\n",
              "          await google.colab.output.renderOutput(dataTable, element);\n",
              "          const docLink = document.createElement('div');\n",
              "          docLink.innerHTML = docLinkHtml;\n",
              "          element.appendChild(docLink);\n",
              "        }\n",
              "      </script>\n",
              "    </div>\n",
              "  </div>\n",
              "  "
            ]
          },
          "metadata": {},
          "execution_count": 67
        }
      ]
    },
    {
      "cell_type": "code",
      "source": [
        "import sys\n",
        "sys.path.append('/content/drive/My Drive/Model/Train_id2_id6_id8_id10_Test_id12_100.h5')\n",
        "\n",
        "from efficientnet.layers import Swish, DropConnect\n",
        "from efficientnet.model import ConvKernalInitializer\n",
        "from tensorflow.keras.utils import get_custom_objects\n",
        "\n",
        "get_custom_objects().update({\n",
        "    'ConvKernalInitializer': ConvKernalInitializer,\n",
        "    'Swish': Swish,\n",
        "    'DropConnect':DropConnect\n",
        "})"
      ],
      "metadata": {
        "id": "tkoRb_MsnUTS"
      },
      "execution_count": 68,
      "outputs": []
    },
    {
      "cell_type": "code",
      "source": [
        "#load model \n",
        "from tensorflow.keras.models import load_model\n",
        "model = load_model('/content/drive/My Drive/Model/Train_id2_id6_id8_id10_Test_id12_100.h5')\n",
        "height = width = model.input_shape[1]"
      ],
      "metadata": {
        "id": "JbdudCMMnUQg"
      },
      "execution_count": 69,
      "outputs": []
    },
    {
      "cell_type": "code",
      "source": [
        "DATA_PATH = \"/content/drive/My Drive/id\"\n",
        "os.chdir(DATA_PATH)\n",
        "train_dir = os.path.join(DATA_PATH, 'train')\n",
        "print(train_dir)\n",
        "test_dir = os.path.join(DATA_PATH, 'test')\n",
        "print(test_dir)"
      ],
      "metadata": {
        "id": "tYYA6DPJnUOI",
        "outputId": "1000e3da-7d92-4418-e36b-7f142b02df87",
        "colab": {
          "base_uri": "https://localhost:8080/"
        }
      },
      "execution_count": 70,
      "outputs": [
        {
          "output_type": "stream",
          "name": "stdout",
          "text": [
            "/content/drive/My Drive/id/train\n",
            "/content/drive/My Drive/id/test\n"
          ]
        }
      ]
    },
    {
      "cell_type": "code",
      "source": [
        "train = df[df['Unnamed: 0'].between(0,190079)]\n",
        "test = df[df['Unnamed: 0'].between(190080,190094)]"
      ],
      "metadata": {
        "id": "2HWYoRHanUL5"
      },
      "execution_count": 71,
      "outputs": []
    },
    {
      "cell_type": "code",
      "source": [
        "batch_size = 16\n",
        "\n",
        "from tensorflow.keras.preprocessing.image import ImageDataGenerator\n",
        "\n",
        "train_datagen = ImageDataGenerator(\n",
        "      rescale=1./255, #โมเดลส่วนใหญ่ต้องใช้ RGB ในช่วง 0–1\n",
        "      rotation_range=40,\n",
        "      width_shift_range=0.2,\n",
        "      height_shift_range=0.2,\n",
        "      shear_range=0.2,\n",
        "      zoom_range=0.2,\n",
        "      horizontal_flip=True,\n",
        "      fill_mode='nearest')\n",
        "\n",
        "# Note that the validation data should not be augmented!\n",
        "test_datagen = ImageDataGenerator(rescale=1./255)\n",
        "\n",
        "train_generator = train_datagen.flow_from_dataframe(\n",
        "        dataframe = train,\n",
        "        directory = train_dir,\n",
        "        x_col = 'Path_Name',\n",
        "        y_col = 'Part',\n",
        "        # รูปภาพทั้งหมดจะถูกปรับขนาดตามความสูงและความกว้างของเป้าหมาย\n",
        "        target_size=(height, width),\n",
        "        batch_size=batch_size,\n",
        "        class_mode='categorical')\n",
        "        \n",
        "\n",
        "#label\n",
        "labels = (train_generator.class_indices)\n",
        "labels = dict((v,k) for k,v in labels.items())\n",
        "print(labels)"
      ],
      "metadata": {
        "id": "fFQBVhHcnUJs",
        "outputId": "2d92ad66-6b22-4fd0-a87d-32206da4f2ee",
        "colab": {
          "base_uri": "https://localhost:8080/"
        }
      },
      "execution_count": 72,
      "outputs": [
        {
          "output_type": "stream",
          "name": "stdout",
          "text": [
            "Found 190080 validated image filenames belonging to 15 classes.\n",
            "{0: 'p01', 1: 'p02', 2: 'p03', 3: 'p04', 4: 'p05', 5: 'p06', 6: 'p07', 7: 'p08', 8: 'p09', 9: 'p10', 10: 'p11', 11: 'p12', 12: 'p13', 13: 'p14', 14: 'p15'}\n"
          ]
        }
      ]
    },
    {
      "cell_type": "code",
      "source": [
        "test = df[df['Unnamed: 0'].between(190080,190094)]\n",
        "test"
      ],
      "metadata": {
        "id": "tDj6ckvJnUHY",
        "outputId": "c2bc77eb-1f45-4cc5-abee-0cc620183772",
        "colab": {
          "base_uri": "https://localhost:8080/",
          "height": 519
        }
      },
      "execution_count": 73,
      "outputs": [
        {
          "output_type": "execute_result",
          "data": {
            "text/plain": [
              "        Unnamed: 0                                          Path_Name    id  \\\n",
              "190080      190080  /content/drive/My Drive/id/id12/Base/p13/dis1....  id12   \n",
              "190081      190081  /content/drive/My Drive/id/id12/Base/p15/dis1....  id12   \n",
              "190082      190082  /content/drive/My Drive/id/id12/Base/p12/dis1....  id12   \n",
              "190083      190083  /content/drive/My Drive/id/id12/Base/p14/dis1....  id12   \n",
              "190084      190084  /content/drive/My Drive/id/id12/Base/p11/dis1....  id12   \n",
              "190085      190085  /content/drive/My Drive/id/id12/Base/p10/dis1....  id12   \n",
              "190086      190086  /content/drive/My Drive/id/id12/Base/p01/dis1....  id12   \n",
              "190087      190087  /content/drive/My Drive/id/id12/Base/p02/dis1....  id12   \n",
              "190088      190088  /content/drive/My Drive/id/id12/Base/p03/dis1....  id12   \n",
              "190089      190089  /content/drive/My Drive/id/id12/Base/p04/dis1....  id12   \n",
              "190090      190090  /content/drive/My Drive/id/id12/Base/p05/dis1....  id12   \n",
              "190091      190091  /content/drive/My Drive/id/id12/Base/p06/dis1....  id12   \n",
              "190092      190092  /content/drive/My Drive/id/id12/Base/p07/dis1....  id12   \n",
              "190093      190093  /content/drive/My Drive/id/id12/Base/p08/dis1....  id12   \n",
              "190094      190094  /content/drive/My Drive/id/id12/Base/p09/dis1....  id12   \n",
              "\n",
              "       Part  \n",
              "190080  p13  \n",
              "190081  p15  \n",
              "190082  p12  \n",
              "190083  p14  \n",
              "190084  p11  \n",
              "190085  p10  \n",
              "190086  p01  \n",
              "190087  p02  \n",
              "190088  p03  \n",
              "190089  p04  \n",
              "190090  p05  \n",
              "190091  p06  \n",
              "190092  p07  \n",
              "190093  p08  \n",
              "190094  p09  "
            ],
            "text/html": [
              "\n",
              "  <div id=\"df-2725d9d8-65fd-4374-b1a9-8b82e4361054\">\n",
              "    <div class=\"colab-df-container\">\n",
              "      <div>\n",
              "<style scoped>\n",
              "    .dataframe tbody tr th:only-of-type {\n",
              "        vertical-align: middle;\n",
              "    }\n",
              "\n",
              "    .dataframe tbody tr th {\n",
              "        vertical-align: top;\n",
              "    }\n",
              "\n",
              "    .dataframe thead th {\n",
              "        text-align: right;\n",
              "    }\n",
              "</style>\n",
              "<table border=\"1\" class=\"dataframe\">\n",
              "  <thead>\n",
              "    <tr style=\"text-align: right;\">\n",
              "      <th></th>\n",
              "      <th>Unnamed: 0</th>\n",
              "      <th>Path_Name</th>\n",
              "      <th>id</th>\n",
              "      <th>Part</th>\n",
              "    </tr>\n",
              "  </thead>\n",
              "  <tbody>\n",
              "    <tr>\n",
              "      <th>190080</th>\n",
              "      <td>190080</td>\n",
              "      <td>/content/drive/My Drive/id/id12/Base/p13/dis1....</td>\n",
              "      <td>id12</td>\n",
              "      <td>p13</td>\n",
              "    </tr>\n",
              "    <tr>\n",
              "      <th>190081</th>\n",
              "      <td>190081</td>\n",
              "      <td>/content/drive/My Drive/id/id12/Base/p15/dis1....</td>\n",
              "      <td>id12</td>\n",
              "      <td>p15</td>\n",
              "    </tr>\n",
              "    <tr>\n",
              "      <th>190082</th>\n",
              "      <td>190082</td>\n",
              "      <td>/content/drive/My Drive/id/id12/Base/p12/dis1....</td>\n",
              "      <td>id12</td>\n",
              "      <td>p12</td>\n",
              "    </tr>\n",
              "    <tr>\n",
              "      <th>190083</th>\n",
              "      <td>190083</td>\n",
              "      <td>/content/drive/My Drive/id/id12/Base/p14/dis1....</td>\n",
              "      <td>id12</td>\n",
              "      <td>p14</td>\n",
              "    </tr>\n",
              "    <tr>\n",
              "      <th>190084</th>\n",
              "      <td>190084</td>\n",
              "      <td>/content/drive/My Drive/id/id12/Base/p11/dis1....</td>\n",
              "      <td>id12</td>\n",
              "      <td>p11</td>\n",
              "    </tr>\n",
              "    <tr>\n",
              "      <th>190085</th>\n",
              "      <td>190085</td>\n",
              "      <td>/content/drive/My Drive/id/id12/Base/p10/dis1....</td>\n",
              "      <td>id12</td>\n",
              "      <td>p10</td>\n",
              "    </tr>\n",
              "    <tr>\n",
              "      <th>190086</th>\n",
              "      <td>190086</td>\n",
              "      <td>/content/drive/My Drive/id/id12/Base/p01/dis1....</td>\n",
              "      <td>id12</td>\n",
              "      <td>p01</td>\n",
              "    </tr>\n",
              "    <tr>\n",
              "      <th>190087</th>\n",
              "      <td>190087</td>\n",
              "      <td>/content/drive/My Drive/id/id12/Base/p02/dis1....</td>\n",
              "      <td>id12</td>\n",
              "      <td>p02</td>\n",
              "    </tr>\n",
              "    <tr>\n",
              "      <th>190088</th>\n",
              "      <td>190088</td>\n",
              "      <td>/content/drive/My Drive/id/id12/Base/p03/dis1....</td>\n",
              "      <td>id12</td>\n",
              "      <td>p03</td>\n",
              "    </tr>\n",
              "    <tr>\n",
              "      <th>190089</th>\n",
              "      <td>190089</td>\n",
              "      <td>/content/drive/My Drive/id/id12/Base/p04/dis1....</td>\n",
              "      <td>id12</td>\n",
              "      <td>p04</td>\n",
              "    </tr>\n",
              "    <tr>\n",
              "      <th>190090</th>\n",
              "      <td>190090</td>\n",
              "      <td>/content/drive/My Drive/id/id12/Base/p05/dis1....</td>\n",
              "      <td>id12</td>\n",
              "      <td>p05</td>\n",
              "    </tr>\n",
              "    <tr>\n",
              "      <th>190091</th>\n",
              "      <td>190091</td>\n",
              "      <td>/content/drive/My Drive/id/id12/Base/p06/dis1....</td>\n",
              "      <td>id12</td>\n",
              "      <td>p06</td>\n",
              "    </tr>\n",
              "    <tr>\n",
              "      <th>190092</th>\n",
              "      <td>190092</td>\n",
              "      <td>/content/drive/My Drive/id/id12/Base/p07/dis1....</td>\n",
              "      <td>id12</td>\n",
              "      <td>p07</td>\n",
              "    </tr>\n",
              "    <tr>\n",
              "      <th>190093</th>\n",
              "      <td>190093</td>\n",
              "      <td>/content/drive/My Drive/id/id12/Base/p08/dis1....</td>\n",
              "      <td>id12</td>\n",
              "      <td>p08</td>\n",
              "    </tr>\n",
              "    <tr>\n",
              "      <th>190094</th>\n",
              "      <td>190094</td>\n",
              "      <td>/content/drive/My Drive/id/id12/Base/p09/dis1....</td>\n",
              "      <td>id12</td>\n",
              "      <td>p09</td>\n",
              "    </tr>\n",
              "  </tbody>\n",
              "</table>\n",
              "</div>\n",
              "      <button class=\"colab-df-convert\" onclick=\"convertToInteractive('df-2725d9d8-65fd-4374-b1a9-8b82e4361054')\"\n",
              "              title=\"Convert this dataframe to an interactive table.\"\n",
              "              style=\"display:none;\">\n",
              "        \n",
              "  <svg xmlns=\"http://www.w3.org/2000/svg\" height=\"24px\"viewBox=\"0 0 24 24\"\n",
              "       width=\"24px\">\n",
              "    <path d=\"M0 0h24v24H0V0z\" fill=\"none\"/>\n",
              "    <path d=\"M18.56 5.44l.94 2.06.94-2.06 2.06-.94-2.06-.94-.94-2.06-.94 2.06-2.06.94zm-11 1L8.5 8.5l.94-2.06 2.06-.94-2.06-.94L8.5 2.5l-.94 2.06-2.06.94zm10 10l.94 2.06.94-2.06 2.06-.94-2.06-.94-.94-2.06-.94 2.06-2.06.94z\"/><path d=\"M17.41 7.96l-1.37-1.37c-.4-.4-.92-.59-1.43-.59-.52 0-1.04.2-1.43.59L10.3 9.45l-7.72 7.72c-.78.78-.78 2.05 0 2.83L4 21.41c.39.39.9.59 1.41.59.51 0 1.02-.2 1.41-.59l7.78-7.78 2.81-2.81c.8-.78.8-2.07 0-2.86zM5.41 20L4 18.59l7.72-7.72 1.47 1.35L5.41 20z\"/>\n",
              "  </svg>\n",
              "      </button>\n",
              "      \n",
              "  <style>\n",
              "    .colab-df-container {\n",
              "      display:flex;\n",
              "      flex-wrap:wrap;\n",
              "      gap: 12px;\n",
              "    }\n",
              "\n",
              "    .colab-df-convert {\n",
              "      background-color: #E8F0FE;\n",
              "      border: none;\n",
              "      border-radius: 50%;\n",
              "      cursor: pointer;\n",
              "      display: none;\n",
              "      fill: #1967D2;\n",
              "      height: 32px;\n",
              "      padding: 0 0 0 0;\n",
              "      width: 32px;\n",
              "    }\n",
              "\n",
              "    .colab-df-convert:hover {\n",
              "      background-color: #E2EBFA;\n",
              "      box-shadow: 0px 1px 2px rgba(60, 64, 67, 0.3), 0px 1px 3px 1px rgba(60, 64, 67, 0.15);\n",
              "      fill: #174EA6;\n",
              "    }\n",
              "\n",
              "    [theme=dark] .colab-df-convert {\n",
              "      background-color: #3B4455;\n",
              "      fill: #D2E3FC;\n",
              "    }\n",
              "\n",
              "    [theme=dark] .colab-df-convert:hover {\n",
              "      background-color: #434B5C;\n",
              "      box-shadow: 0px 1px 3px 1px rgba(0, 0, 0, 0.15);\n",
              "      filter: drop-shadow(0px 1px 2px rgba(0, 0, 0, 0.3));\n",
              "      fill: #FFFFFF;\n",
              "    }\n",
              "  </style>\n",
              "\n",
              "      <script>\n",
              "        const buttonEl =\n",
              "          document.querySelector('#df-2725d9d8-65fd-4374-b1a9-8b82e4361054 button.colab-df-convert');\n",
              "        buttonEl.style.display =\n",
              "          google.colab.kernel.accessAllowed ? 'block' : 'none';\n",
              "\n",
              "        async function convertToInteractive(key) {\n",
              "          const element = document.querySelector('#df-2725d9d8-65fd-4374-b1a9-8b82e4361054');\n",
              "          const dataTable =\n",
              "            await google.colab.kernel.invokeFunction('convertToInteractive',\n",
              "                                                     [key], {});\n",
              "          if (!dataTable) return;\n",
              "\n",
              "          const docLinkHtml = 'Like what you see? Visit the ' +\n",
              "            '<a target=\"_blank\" href=https://colab.research.google.com/notebooks/data_table.ipynb>data table notebook</a>'\n",
              "            + ' to learn more about interactive tables.';\n",
              "          element.innerHTML = '';\n",
              "          dataTable['output_type'] = 'display_data';\n",
              "          await google.colab.output.renderOutput(dataTable, element);\n",
              "          const docLink = document.createElement('div');\n",
              "          docLink.innerHTML = docLinkHtml;\n",
              "          element.appendChild(docLink);\n",
              "        }\n",
              "      </script>\n",
              "    </div>\n",
              "  </div>\n",
              "  "
            ]
          },
          "metadata": {},
          "execution_count": 73
        }
      ]
    },
    {
      "cell_type": "code",
      "source": [
        "act = test['Part'].tolist() #ค่าจริง\n",
        "path = test['Path_Name'].tolist() #path"
      ],
      "metadata": {
        "id": "_8yNWyMpnUFI"
      },
      "execution_count": 74,
      "outputs": []
    },
    {
      "cell_type": "code",
      "source": [
        "from tensorflow.keras.preprocessing import image\n",
        "\n",
        "def predict_image(img_path): #สร้างฟังก์ชัน \n",
        "    # Read the image and resize it\n",
        "    img = image.load_img(img_path, target_size=(height, width)) #รูปทุกรูปมีขนาดไม่เท่ากันจึงตั้งไว้ว่าเวลาจะให้ model ดึงรูปมาทำนายให้ดึงรูปเข้ามาตามขนาดที่ตั้งไว้ตาม พารามิตเตอร์\n",
        "    # Convert it to a Numpy array with target shape.\n",
        "    x = image.img_to_array(img) # model ไม่สามารถทำนายรูปภาพโดยตรงได้ จึงเเปลงรูปภาพให้เป็น array เเล้วให้โมเดลทำนาย\n",
        "    # Reshape\n",
        "    x = x.reshape((1,) + x.shape) # เพิ่ม ไดเมนชั่นของโมเดล ให้เป็น 4 ได้ เมนชั่น โดยที่ 1, คือบอกให้โมเดลนำเข้าทีละ 1 รูปเเล้วค่อยทำนาย เเละ + ไดเมนชั่น คือ 150 ,150 ,3(สีของ RGB)\n",
        "    x /= 255.\n",
        "    result = model.predict([x])\n",
        "    return result[0]"
      ],
      "metadata": {
        "id": "8pRyL9eInUC6"
      },
      "execution_count": 75,
      "outputs": []
    },
    {
      "cell_type": "code",
      "source": [
        "predict_image(path[0])[0]"
      ],
      "metadata": {
        "id": "wvdpDbsBzocn",
        "outputId": "47cca8aa-226f-4533-a49e-a65e500756c6",
        "colab": {
          "base_uri": "https://localhost:8080/"
        }
      },
      "execution_count": 76,
      "outputs": [
        {
          "output_type": "stream",
          "name": "stdout",
          "text": [
            "1/1 [==============================] - 1s 1s/step\n"
          ]
        },
        {
          "output_type": "execute_result",
          "data": {
            "text/plain": [
              "0.00030309355"
            ]
          },
          "metadata": {},
          "execution_count": 76
        }
      ]
    },
    {
      "cell_type": "code",
      "source": [
        "import numpy as np"
      ],
      "metadata": {
        "id": "uwCNcDRLnUAY"
      },
      "execution_count": 77,
      "outputs": []
    },
    {
      "cell_type": "code",
      "source": [
        "#Predict\n",
        "pred_list = list()\n",
        "prob_list = list()\n",
        "img_path= path\n",
        "for i in range(0,len(img_path)):\n",
        "    predict = predict_image(img_path[i])\n",
        "    result = np.argmax(predict)\n",
        "    pred_list.append(labels[result])\n",
        "    prob_list.append(predict[result])"
      ],
      "metadata": {
        "id": "960K1YmvnT94",
        "outputId": "01708632-56be-4437-c080-9b82b2a82da2",
        "colab": {
          "base_uri": "https://localhost:8080/"
        }
      },
      "execution_count": 78,
      "outputs": [
        {
          "output_type": "stream",
          "name": "stdout",
          "text": [
            "1/1 [==============================] - 0s 54ms/step\n",
            "1/1 [==============================] - 0s 57ms/step\n",
            "1/1 [==============================] - 0s 52ms/step\n",
            "1/1 [==============================] - 0s 51ms/step\n",
            "1/1 [==============================] - 0s 52ms/step\n",
            "1/1 [==============================] - 0s 52ms/step\n",
            "1/1 [==============================] - 0s 50ms/step\n",
            "1/1 [==============================] - 0s 56ms/step\n",
            "1/1 [==============================] - 0s 51ms/step\n",
            "1/1 [==============================] - 0s 55ms/step\n",
            "1/1 [==============================] - 0s 61ms/step\n",
            "1/1 [==============================] - 0s 56ms/step\n",
            "1/1 [==============================] - 0s 52ms/step\n",
            "1/1 [==============================] - 0s 61ms/step\n",
            "1/1 [==============================] - 0s 55ms/step\n"
          ]
        }
      ]
    },
    {
      "cell_type": "code",
      "source": [
        "pred_list"
      ],
      "metadata": {
        "id": "KSCkpe7zXo_Y",
        "outputId": "fb600f39-79f1-475e-e074-e97f797717fd",
        "colab": {
          "base_uri": "https://localhost:8080/"
        }
      },
      "execution_count": 79,
      "outputs": [
        {
          "output_type": "execute_result",
          "data": {
            "text/plain": [
              "['p13',\n",
              " 'p15',\n",
              " 'p12',\n",
              " 'p02',\n",
              " 'p12',\n",
              " 'p06',\n",
              " 'p13',\n",
              " 'p02',\n",
              " 'p12',\n",
              " 'p12',\n",
              " 'p06',\n",
              " 'p06',\n",
              " 'p08',\n",
              " 'p07',\n",
              " 'p05']"
            ]
          },
          "metadata": {},
          "execution_count": 79
        }
      ]
    },
    {
      "cell_type": "code",
      "source": [
        "pred = np.array(pred_list)\n",
        "act = np.array(act)"
      ],
      "metadata": {
        "id": "OvAokJeinvrs"
      },
      "execution_count": 80,
      "outputs": []
    },
    {
      "cell_type": "code",
      "source": [
        "import numpy as np\n",
        "from sklearn.metrics import confusion_matrix\n",
        "\n",
        "# act = data_train['class'].array\n",
        "# pred = data_train['category_ov'].array\n",
        "\n",
        "cmat = confusion_matrix(act, pred)\n",
        "print('classifier accuracy = {}%'.format((100.*np.trace(cmat))/(np.sum(cmat))))\n",
        "\n",
        "#Marking the Confusion Matrix\n",
        "from sklearn.metrics import classification_report,confusion_matrix\n",
        "print(classification_report(act, pred))#performance"
      ],
      "metadata": {
        "id": "znxGxzE3nvpY",
        "outputId": "055e922f-d748-4f25-ba2e-6a191b43d2bd",
        "colab": {
          "base_uri": "https://localhost:8080/"
        }
      },
      "execution_count": 81,
      "outputs": [
        {
          "output_type": "stream",
          "name": "stdout",
          "text": [
            "classifier accuracy = 33.333333333333336%\n",
            "              precision    recall  f1-score   support\n",
            "\n",
            "         p01       0.00      0.00      0.00         1\n",
            "         p02       0.50      1.00      0.67         1\n",
            "         p03       0.00      0.00      0.00         1\n",
            "         p04       0.00      0.00      0.00         1\n",
            "         p05       0.00      0.00      0.00         1\n",
            "         p06       0.33      1.00      0.50         1\n",
            "         p07       0.00      0.00      0.00         1\n",
            "         p08       0.00      0.00      0.00         1\n",
            "         p09       0.00      0.00      0.00         1\n",
            "         p10       0.00      0.00      0.00         1\n",
            "         p11       0.00      0.00      0.00         1\n",
            "         p12       0.25      1.00      0.40         1\n",
            "         p13       0.50      1.00      0.67         1\n",
            "         p14       0.00      0.00      0.00         1\n",
            "         p15       1.00      1.00      1.00         1\n",
            "\n",
            "    accuracy                           0.33        15\n",
            "   macro avg       0.17      0.33      0.22        15\n",
            "weighted avg       0.17      0.33      0.22        15\n",
            "\n"
          ]
        },
        {
          "output_type": "stream",
          "name": "stderr",
          "text": [
            "/usr/local/lib/python3.8/dist-packages/sklearn/metrics/_classification.py:1318: UndefinedMetricWarning: Precision and F-score are ill-defined and being set to 0.0 in labels with no predicted samples. Use `zero_division` parameter to control this behavior.\n",
            "  _warn_prf(average, modifier, msg_start, len(result))\n",
            "/usr/local/lib/python3.8/dist-packages/sklearn/metrics/_classification.py:1318: UndefinedMetricWarning: Precision and F-score are ill-defined and being set to 0.0 in labels with no predicted samples. Use `zero_division` parameter to control this behavior.\n",
            "  _warn_prf(average, modifier, msg_start, len(result))\n",
            "/usr/local/lib/python3.8/dist-packages/sklearn/metrics/_classification.py:1318: UndefinedMetricWarning: Precision and F-score are ill-defined and being set to 0.0 in labels with no predicted samples. Use `zero_division` parameter to control this behavior.\n",
            "  _warn_prf(average, modifier, msg_start, len(result))\n"
          ]
        }
      ]
    },
    {
      "cell_type": "code",
      "source": [
        "#create CF \n",
        "data = {'Actual': act,'Predicted' : pred}\n",
        "df = pd.DataFrame(data, columns=['Actual','Predicted'])\n",
        "conf_mat = pd.crosstab(df['Actual'],df['Predicted'],rownames=['Actual'],colnames=['Predicted'])\n",
        "\n",
        "#Confusion matrix\n",
        "from sklearn.metrics import confusion_matrix\n",
        "import matplotlib.pyplot as plt\n",
        "cm = confusion_matrix(act, pred)\n",
        "\n",
        "#plot Confusion matrix\n",
        "import seaborn as sns\n",
        "sns.set()\n",
        "fig, ax = plt.subplots(figsize=(10, 10))\n",
        "\n",
        "ax = sns.heatmap(conf_mat, annot=True, fmt=\"d\", cmap=\"YlGnBu\") #Blues,Oranges,Reds\n",
        "ax.set_title('Confusion matrix',fontsize=20)\n",
        "ax.set_ylabel('True label',fontsize=18)\n",
        "ax.set_xlabel('Predicted label',fontsize=18)"
      ],
      "metadata": {
        "id": "QGvzDzw8nvm4",
        "outputId": "731e33b3-6421-4627-a0bf-02c14d2f1df5",
        "colab": {
          "base_uri": "https://localhost:8080/",
          "height": 654
        }
      },
      "execution_count": 82,
      "outputs": [
        {
          "output_type": "execute_result",
          "data": {
            "text/plain": [
              "Text(0.5, 66.5, 'Predicted label')"
            ]
          },
          "metadata": {},
          "execution_count": 82
        },
        {
          "output_type": "display_data",
          "data": {
            "text/plain": [
              "<Figure size 720x720 with 2 Axes>"
            ],
            "image/png": "[encoded data removed]"
          },
          "metadata": {}
        }
      ]
    }
  ]
}