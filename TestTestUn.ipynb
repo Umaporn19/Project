{
  "nbformat": 4,
  "nbformat_minor": 0,
  "metadata": {
    "colab": {
      "provenance": [],
      "authorship_tag": "ABX9TyMEQKDchXj+WIFDu1XULK2U",
      "include_colab_link": true
    },
    "kernelspec": {
      "name": "python3",
      "display_name": "Python 3"
    },
    "language_info": {
      "name": "python"
    }
  },
  "cells": [
    {
      "cell_type": "markdown",
      "metadata": {
        "id": "view-in-github",
        "colab_type": "text"
      },
      "source": [
        "<a href=\"https://colab.research.google.com/github/Umaporn19/Project/blob/main/TestTestUn.ipynb\" target=\"_parent\"><img src=\"https://colab.research.google.com/assets/colab-badge.svg\" alt=\"Open In Colab\"/></a>"
      ]
    },
    {
      "cell_type": "code",
      "execution_count": 1,
      "metadata": {
        "colab": {
          "base_uri": "https://localhost:8080/"
        },
        "id": "Pe41KW4KfSFa",
        "outputId": "e85d2fdf-8b83-47a9-bea8-cb4b06693a52"
      },
      "outputs": [
        {
          "output_type": "stream",
          "name": "stdout",
          "text": [
            "Mounted at /content/drive\n"
          ]
        }
      ],
      "source": [
        "from google.colab import drive\n",
        "drive.mount('/content/drive')"
      ]
    },
    {
      "cell_type": "code",
      "source": [
        "import pandas as pd\n",
        "import numpy as np"
      ],
      "metadata": {
        "id": "5PmQbMZSfaIq"
      },
      "execution_count": 2,
      "outputs": []
    },
    {
      "cell_type": "code",
      "source": [
        "import os\n",
        "%cd /content\n",
        "if not os.path.isdir(\"efficientnet_keras_transfer_learning\"):\n",
        " !git clone https://github.com/Wanita-8943/efficientnet_keras_transfer_learning\n",
        "%cd efficientnet_keras_transfer_learning/"
      ],
      "metadata": {
        "colab": {
          "base_uri": "https://localhost:8080/"
        },
        "id": "SIATt9jIfbV7",
        "outputId": "d4ebcb3d-aad0-4df2-8a09-5b28e9695733"
      },
      "execution_count": 3,
      "outputs": [
        {
          "output_type": "stream",
          "name": "stdout",
          "text": [
            "/content\n",
            "Cloning into 'efficientnet_keras_transfer_learning'...\n",
            "remote: Enumerating objects: 837, done.\u001b[K\n",
            "remote: Counting objects: 100% (359/359), done.\u001b[K\n",
            "remote: Compressing objects: 100% (124/124), done.\u001b[K\n",
            "remote: Total 837 (delta 255), reused 328 (delta 235), pack-reused 478\u001b[K\n",
            "Receiving objects: 100% (837/837), 13.82 MiB | 16.78 MiB/s, done.\n",
            "Resolving deltas: 100% (495/495), done.\n",
            "/content/efficientnet_keras_transfer_learning\n"
          ]
        }
      ]
    },
    {
      "cell_type": "code",
      "source": [
        "df = pd.read_csv (r'/content/drive/MyDrive/data/Test.csv')\n",
        "df"
      ],
      "metadata": {
        "colab": {
          "base_uri": "https://localhost:8080/",
          "height": 424
        },
        "id": "0J6uQPVBfbTk",
        "outputId": "365e5dab-6be5-4e98-d4fb-e5478c0d6e0e"
      },
      "execution_count": 4,
      "outputs": [
        {
          "output_type": "execute_result",
          "data": {
            "text/plain": [
              "        Unnamed: 0                                          Path_Name    id  \\\n",
              "0                0  /content/drive/My Drive/id/id2/Base/p11/dis1.7...   id2   \n",
              "1                1  /content/drive/My Drive/id/id2/Base/p11/dis1.7...   id2   \n",
              "2                2  /content/drive/My Drive/id/id2/Base/p11/dis1.7...   id2   \n",
              "3                3  /content/drive/My Drive/id/id2/Base/p11/dis1.7...   id2   \n",
              "4                4  /content/drive/My Drive/id/id2/Base/p11/dis1.7...   id2   \n",
              "...            ...                                                ...   ...   \n",
              "190090      190090  /content/drive/My Drive/id/id12/Base/p05/dis1....  id12   \n",
              "190091      190091  /content/drive/My Drive/id/id12/Base/p06/dis1....  id12   \n",
              "190092      190092  /content/drive/My Drive/id/id12/Base/p07/dis1....  id12   \n",
              "190093      190093  /content/drive/My Drive/id/id12/Base/p08/dis1....  id12   \n",
              "190094      190094  /content/drive/My Drive/id/id12/Base/p09/dis1....  id12   \n",
              "\n",
              "       Part  \n",
              "0       p11  \n",
              "1       p11  \n",
              "2       p11  \n",
              "3       p11  \n",
              "4       p11  \n",
              "...     ...  \n",
              "190090  p05  \n",
              "190091  p06  \n",
              "190092  p07  \n",
              "190093  p08  \n",
              "190094  p09  \n",
              "\n",
              "[190095 rows x 4 columns]"
            ],
            "text/html": [
              "\n",
              "  <div id=\"df-89f12e25-55a5-44f6-adea-da4a83804e48\">\n",
              "    <div class=\"colab-df-container\">\n",
              "      <div>\n",
              "<style scoped>\n",
              "    .dataframe tbody tr th:only-of-type {\n",
              "        vertical-align: middle;\n",
              "    }\n",
              "\n",
              "    .dataframe tbody tr th {\n",
              "        vertical-align: top;\n",
              "    }\n",
              "\n",
              "    .dataframe thead th {\n",
              "        text-align: right;\n",
              "    }\n",
              "</style>\n",
              "<table border=\"1\" class=\"dataframe\">\n",
              "  <thead>\n",
              "    <tr style=\"text-align: right;\">\n",
              "      <th></th>\n",
              "      <th>Unnamed: 0</th>\n",
              "      <th>Path_Name</th>\n",
              "      <th>id</th>\n",
              "      <th>Part</th>\n",
              "    </tr>\n",
              "  </thead>\n",
              "  <tbody>\n",
              "    <tr>\n",
              "      <th>0</th>\n",
              "      <td>0</td>\n",
              "      <td>/content/drive/My Drive/id/id2/Base/p11/dis1.7...</td>\n",
              "      <td>id2</td>\n",
              "      <td>p11</td>\n",
              "    </tr>\n",
              "    <tr>\n",
              "      <th>1</th>\n",
              "      <td>1</td>\n",
              "      <td>/content/drive/My Drive/id/id2/Base/p11/dis1.7...</td>\n",
              "      <td>id2</td>\n",
              "      <td>p11</td>\n",
              "    </tr>\n",
              "    <tr>\n",
              "      <th>2</th>\n",
              "      <td>2</td>\n",
              "      <td>/content/drive/My Drive/id/id2/Base/p11/dis1.7...</td>\n",
              "      <td>id2</td>\n",
              "      <td>p11</td>\n",
              "    </tr>\n",
              "    <tr>\n",
              "      <th>3</th>\n",
              "      <td>3</td>\n",
              "      <td>/content/drive/My Drive/id/id2/Base/p11/dis1.7...</td>\n",
              "      <td>id2</td>\n",
              "      <td>p11</td>\n",
              "    </tr>\n",
              "    <tr>\n",
              "      <th>4</th>\n",
              "      <td>4</td>\n",
              "      <td>/content/drive/My Drive/id/id2/Base/p11/dis1.7...</td>\n",
              "      <td>id2</td>\n",
              "      <td>p11</td>\n",
              "    </tr>\n",
              "    <tr>\n",
              "      <th>...</th>\n",
              "      <td>...</td>\n",
              "      <td>...</td>\n",
              "      <td>...</td>\n",
              "      <td>...</td>\n",
              "    </tr>\n",
              "    <tr>\n",
              "      <th>190090</th>\n",
              "      <td>190090</td>\n",
              "      <td>/content/drive/My Drive/id/id12/Base/p05/dis1....</td>\n",
              "      <td>id12</td>\n",
              "      <td>p05</td>\n",
              "    </tr>\n",
              "    <tr>\n",
              "      <th>190091</th>\n",
              "      <td>190091</td>\n",
              "      <td>/content/drive/My Drive/id/id12/Base/p06/dis1....</td>\n",
              "      <td>id12</td>\n",
              "      <td>p06</td>\n",
              "    </tr>\n",
              "    <tr>\n",
              "      <th>190092</th>\n",
              "      <td>190092</td>\n",
              "      <td>/content/drive/My Drive/id/id12/Base/p07/dis1....</td>\n",
              "      <td>id12</td>\n",
              "      <td>p07</td>\n",
              "    </tr>\n",
              "    <tr>\n",
              "      <th>190093</th>\n",
              "      <td>190093</td>\n",
              "      <td>/content/drive/My Drive/id/id12/Base/p08/dis1....</td>\n",
              "      <td>id12</td>\n",
              "      <td>p08</td>\n",
              "    </tr>\n",
              "    <tr>\n",
              "      <th>190094</th>\n",
              "      <td>190094</td>\n",
              "      <td>/content/drive/My Drive/id/id12/Base/p09/dis1....</td>\n",
              "      <td>id12</td>\n",
              "      <td>p09</td>\n",
              "    </tr>\n",
              "  </tbody>\n",
              "</table>\n",
              "<p>190095 rows × 4 columns</p>\n",
              "</div>\n",
              "      <button class=\"colab-df-convert\" onclick=\"convertToInteractive('df-89f12e25-55a5-44f6-adea-da4a83804e48')\"\n",
              "              title=\"Convert this dataframe to an interactive table.\"\n",
              "              style=\"display:none;\">\n",
              "        \n",
              "  <svg xmlns=\"http://www.w3.org/2000/svg\" height=\"24px\"viewBox=\"0 0 24 24\"\n",
              "       width=\"24px\">\n",
              "    <path d=\"M0 0h24v24H0V0z\" fill=\"none\"/>\n",
              "    <path d=\"M18.56 5.44l.94 2.06.94-2.06 2.06-.94-2.06-.94-.94-2.06-.94 2.06-2.06.94zm-11 1L8.5 8.5l.94-2.06 2.06-.94-2.06-.94L8.5 2.5l-.94 2.06-2.06.94zm10 10l.94 2.06.94-2.06 2.06-.94-2.06-.94-.94-2.06-.94 2.06-2.06.94z\"/><path d=\"M17.41 7.96l-1.37-1.37c-.4-.4-.92-.59-1.43-.59-.52 0-1.04.2-1.43.59L10.3 9.45l-7.72 7.72c-.78.78-.78 2.05 0 2.83L4 21.41c.39.39.9.59 1.41.59.51 0 1.02-.2 1.41-.59l7.78-7.78 2.81-2.81c.8-.78.8-2.07 0-2.86zM5.41 20L4 18.59l7.72-7.72 1.47 1.35L5.41 20z\"/>\n",
              "  </svg>\n",
              "      </button>\n",
              "      \n",
              "  <style>\n",
              "    .colab-df-container {\n",
              "      display:flex;\n",
              "      flex-wrap:wrap;\n",
              "      gap: 12px;\n",
              "    }\n",
              "\n",
              "    .colab-df-convert {\n",
              "      background-color: #E8F0FE;\n",
              "      border: none;\n",
              "      border-radius: 50%;\n",
              "      cursor: pointer;\n",
              "      display: none;\n",
              "      fill: #1967D2;\n",
              "      height: 32px;\n",
              "      padding: 0 0 0 0;\n",
              "      width: 32px;\n",
              "    }\n",
              "\n",
              "    .colab-df-convert:hover {\n",
              "      background-color: #E2EBFA;\n",
              "      box-shadow: 0px 1px 2px rgba(60, 64, 67, 0.3), 0px 1px 3px 1px rgba(60, 64, 67, 0.15);\n",
              "      fill: #174EA6;\n",
              "    }\n",
              "\n",
              "    [theme=dark] .colab-df-convert {\n",
              "      background-color: #3B4455;\n",
              "      fill: #D2E3FC;\n",
              "    }\n",
              "\n",
              "    [theme=dark] .colab-df-convert:hover {\n",
              "      background-color: #434B5C;\n",
              "      box-shadow: 0px 1px 3px 1px rgba(0, 0, 0, 0.15);\n",
              "      filter: drop-shadow(0px 1px 2px rgba(0, 0, 0, 0.3));\n",
              "      fill: #FFFFFF;\n",
              "    }\n",
              "  </style>\n",
              "\n",
              "      <script>\n",
              "        const buttonEl =\n",
              "          document.querySelector('#df-89f12e25-55a5-44f6-adea-da4a83804e48 button.colab-df-convert');\n",
              "        buttonEl.style.display =\n",
              "          google.colab.kernel.accessAllowed ? 'block' : 'none';\n",
              "\n",
              "        async function convertToInteractive(key) {\n",
              "          const element = document.querySelector('#df-89f12e25-55a5-44f6-adea-da4a83804e48');\n",
              "          const dataTable =\n",
              "            await google.colab.kernel.invokeFunction('convertToInteractive',\n",
              "                                                     [key], {});\n",
              "          if (!dataTable) return;\n",
              "\n",
              "          const docLinkHtml = 'Like what you see? Visit the ' +\n",
              "            '<a target=\"_blank\" href=https://colab.research.google.com/notebooks/data_table.ipynb>data table notebook</a>'\n",
              "            + ' to learn more about interactive tables.';\n",
              "          element.innerHTML = '';\n",
              "          dataTable['output_type'] = 'display_data';\n",
              "          await google.colab.output.renderOutput(dataTable, element);\n",
              "          const docLink = document.createElement('div');\n",
              "          docLink.innerHTML = docLinkHtml;\n",
              "          element.appendChild(docLink);\n",
              "        }\n",
              "      </script>\n",
              "    </div>\n",
              "  </div>\n",
              "  "
            ]
          },
          "metadata": {},
          "execution_count": 4
        }
      ]
    },
    {
      "cell_type": "code",
      "source": [
        "import sys\n",
        "sys.path.append('/content/drive/My Drive/Model/Train_id2_id6_id8_id10_Test_id12_100_Unfreeze.h5')\n",
        "\n",
        "from efficientnet.layers import Swish, DropConnect\n",
        "from efficientnet.model import ConvKernalInitializer\n",
        "from tensorflow.keras.utils import get_custom_objects\n",
        "\n",
        "get_custom_objects().update({\n",
        "    'ConvKernalInitializer': ConvKernalInitializer,\n",
        "    'Swish': Swish,\n",
        "    'DropConnect':DropConnect\n",
        "})"
      ],
      "metadata": {
        "id": "inHSlUGDfbRg"
      },
      "execution_count": 5,
      "outputs": []
    },
    {
      "cell_type": "code",
      "source": [
        "#load model \n",
        "from tensorflow.keras.models import load_model\n",
        "model = load_model('/content/drive/My Drive/Model/Train_id2_id6_id8_id10_Test_id12_100_Unfreeze.h5')\n",
        "height = width = model.input_shape[1]"
      ],
      "metadata": {
        "colab": {
          "base_uri": "https://localhost:8080/"
        },
        "id": "rIaGzRYzfbPD",
        "outputId": "2d2075d1-20ac-4119-9e21-e7da3e66b026"
      },
      "execution_count": 6,
      "outputs": [
        {
          "output_type": "stream",
          "name": "stderr",
          "text": [
            "WARNING:tensorflow:From /usr/local/lib/python3.8/dist-packages/tensorflow/python/autograph/pyct/static_analysis/liveness.py:83: Analyzer.lamba_check (from tensorflow.python.autograph.pyct.static_analysis.liveness) is deprecated and will be removed after 2023-09-23.\n",
            "Instructions for updating:\n",
            "Lambda fuctions will be no more assumed to be used in the statement where they are used, or at least in the same block. https://github.com/tensorflow/tensorflow/issues/56089\n"
          ]
        }
      ]
    },
    {
      "cell_type": "code",
      "source": [
        "DATA_PATH = \"/content/drive/My Drive/id\"\n",
        "os.chdir(DATA_PATH)\n",
        "train_dir = os.path.join(DATA_PATH, 'train')\n",
        "print(train_dir)\n",
        "test_dir = os.path.join(DATA_PATH, 'test')\n",
        "print(test_dir)"
      ],
      "metadata": {
        "colab": {
          "base_uri": "https://localhost:8080/"
        },
        "id": "dtmAdGbafbMq",
        "outputId": "1bb5745e-7d94-4773-83fd-46f662205d84"
      },
      "execution_count": 7,
      "outputs": [
        {
          "output_type": "stream",
          "name": "stdout",
          "text": [
            "/content/drive/My Drive/id/train\n",
            "/content/drive/My Drive/id/test\n"
          ]
        }
      ]
    },
    {
      "cell_type": "code",
      "source": [
        "train = df[df['Unnamed: 0'].between(0,190079)]\n",
        "test = df[df['Unnamed: 0'].between(190080,190094)]"
      ],
      "metadata": {
        "id": "X7BJB2h8fbKd"
      },
      "execution_count": 8,
      "outputs": []
    },
    {
      "cell_type": "code",
      "source": [
        "batch_size = 16\n",
        "\n",
        "from tensorflow.keras.preprocessing.image import ImageDataGenerator\n",
        "\n",
        "train_datagen = ImageDataGenerator(\n",
        "      rescale=1./255, #โมเดลส่วนใหญ่ต้องใช้ RGB ในช่วง 0–1\n",
        "      rotation_range=40,\n",
        "      width_shift_range=0.2,\n",
        "      height_shift_range=0.2,\n",
        "      shear_range=0.2,\n",
        "      zoom_range=0.2,\n",
        "      horizontal_flip=True,\n",
        "      fill_mode='nearest')\n",
        "\n",
        "# Note that the validation data should not be augmented!\n",
        "test_datagen = ImageDataGenerator(rescale=1./255)\n",
        "\n",
        "train_generator = train_datagen.flow_from_dataframe(\n",
        "        dataframe = train,\n",
        "        directory = train_dir,\n",
        "        x_col = 'Path_Name',\n",
        "        y_col = 'Part',\n",
        "        # รูปภาพทั้งหมดจะถูกปรับขนาดตามความสูงและความกว้างของเป้าหมาย\n",
        "        target_size=(height, width),\n",
        "        batch_size=batch_size,\n",
        "        class_mode='categorical')\n",
        "        \n",
        "\n",
        "#label\n",
        "labels = (train_generator.class_indices)\n",
        "labels = dict((v,k) for k,v in labels.items())\n",
        "print(labels)"
      ],
      "metadata": {
        "colab": {
          "base_uri": "https://localhost:8080/"
        },
        "id": "L4rFjaB0fbIS",
        "outputId": "a16fcfac-0efc-4ba8-d846-e0e6dd1b929d"
      },
      "execution_count": 9,
      "outputs": [
        {
          "output_type": "stream",
          "name": "stdout",
          "text": [
            "Found 190080 validated image filenames belonging to 15 classes.\n",
            "{0: 'p01', 1: 'p02', 2: 'p03', 3: 'p04', 4: 'p05', 5: 'p06', 6: 'p07', 7: 'p08', 8: 'p09', 9: 'p10', 10: 'p11', 11: 'p12', 12: 'p13', 13: 'p14', 14: 'p15'}\n"
          ]
        }
      ]
    },
    {
      "cell_type": "code",
      "source": [
        "test = df[df['Unnamed: 0'].between(190080,190094)]\n",
        "test"
      ],
      "metadata": {
        "colab": {
          "base_uri": "https://localhost:8080/",
          "height": 520
        },
        "id": "DST4XIH9fbF6",
        "outputId": "fc7a9314-ed9e-4c5b-e915-a7811772bb3b"
      },
      "execution_count": 10,
      "outputs": [
        {
          "output_type": "execute_result",
          "data": {
            "text/plain": [
              "        Unnamed: 0                                          Path_Name    id  \\\n",
              "190080      190080  /content/drive/My Drive/id/id12/Base/p13/dis1....  id12   \n",
              "190081      190081  /content/drive/My Drive/id/id12/Base/p15/dis1....  id12   \n",
              "190082      190082  /content/drive/My Drive/id/id12/Base/p12/dis1....  id12   \n",
              "190083      190083  /content/drive/My Drive/id/id12/Base/p14/dis1....  id12   \n",
              "190084      190084  /content/drive/My Drive/id/id12/Base/p11/dis1....  id12   \n",
              "190085      190085  /content/drive/My Drive/id/id12/Base/p10/dis1....  id12   \n",
              "190086      190086  /content/drive/My Drive/id/id12/Base/p01/dis1....  id12   \n",
              "190087      190087  /content/drive/My Drive/id/id12/Base/p02/dis1....  id12   \n",
              "190088      190088  /content/drive/My Drive/id/id12/Base/p03/dis1....  id12   \n",
              "190089      190089  /content/drive/My Drive/id/id12/Base/p04/dis1....  id12   \n",
              "190090      190090  /content/drive/My Drive/id/id12/Base/p05/dis1....  id12   \n",
              "190091      190091  /content/drive/My Drive/id/id12/Base/p06/dis1....  id12   \n",
              "190092      190092  /content/drive/My Drive/id/id12/Base/p07/dis1....  id12   \n",
              "190093      190093  /content/drive/My Drive/id/id12/Base/p08/dis1....  id12   \n",
              "190094      190094  /content/drive/My Drive/id/id12/Base/p09/dis1....  id12   \n",
              "\n",
              "       Part  \n",
              "190080  p13  \n",
              "190081  p15  \n",
              "190082  p12  \n",
              "190083  p14  \n",
              "190084  p11  \n",
              "190085  p10  \n",
              "190086  p01  \n",
              "190087  p02  \n",
              "190088  p03  \n",
              "190089  p04  \n",
              "190090  p05  \n",
              "190091  p06  \n",
              "190092  p07  \n",
              "190093  p08  \n",
              "190094  p09  "
            ],
            "text/html": [
              "\n",
              "  <div id=\"df-49b6dd42-d30d-4dfc-9752-7cc89f144fa0\">\n",
              "    <div class=\"colab-df-container\">\n",
              "      <div>\n",
              "<style scoped>\n",
              "    .dataframe tbody tr th:only-of-type {\n",
              "        vertical-align: middle;\n",
              "    }\n",
              "\n",
              "    .dataframe tbody tr th {\n",
              "        vertical-align: top;\n",
              "    }\n",
              "\n",
              "    .dataframe thead th {\n",
              "        text-align: right;\n",
              "    }\n",
              "</style>\n",
              "<table border=\"1\" class=\"dataframe\">\n",
              "  <thead>\n",
              "    <tr style=\"text-align: right;\">\n",
              "      <th></th>\n",
              "      <th>Unnamed: 0</th>\n",
              "      <th>Path_Name</th>\n",
              "      <th>id</th>\n",
              "      <th>Part</th>\n",
              "    </tr>\n",
              "  </thead>\n",
              "  <tbody>\n",
              "    <tr>\n",
              "      <th>190080</th>\n",
              "      <td>190080</td>\n",
              "      <td>/content/drive/My Drive/id/id12/Base/p13/dis1....</td>\n",
              "      <td>id12</td>\n",
              "      <td>p13</td>\n",
              "    </tr>\n",
              "    <tr>\n",
              "      <th>190081</th>\n",
              "      <td>190081</td>\n",
              "      <td>/content/drive/My Drive/id/id12/Base/p15/dis1....</td>\n",
              "      <td>id12</td>\n",
              "      <td>p15</td>\n",
              "    </tr>\n",
              "    <tr>\n",
              "      <th>190082</th>\n",
              "      <td>190082</td>\n",
              "      <td>/content/drive/My Drive/id/id12/Base/p12/dis1....</td>\n",
              "      <td>id12</td>\n",
              "      <td>p12</td>\n",
              "    </tr>\n",
              "    <tr>\n",
              "      <th>190083</th>\n",
              "      <td>190083</td>\n",
              "      <td>/content/drive/My Drive/id/id12/Base/p14/dis1....</td>\n",
              "      <td>id12</td>\n",
              "      <td>p14</td>\n",
              "    </tr>\n",
              "    <tr>\n",
              "      <th>190084</th>\n",
              "      <td>190084</td>\n",
              "      <td>/content/drive/My Drive/id/id12/Base/p11/dis1....</td>\n",
              "      <td>id12</td>\n",
              "      <td>p11</td>\n",
              "    </tr>\n",
              "    <tr>\n",
              "      <th>190085</th>\n",
              "      <td>190085</td>\n",
              "      <td>/content/drive/My Drive/id/id12/Base/p10/dis1....</td>\n",
              "      <td>id12</td>\n",
              "      <td>p10</td>\n",
              "    </tr>\n",
              "    <tr>\n",
              "      <th>190086</th>\n",
              "      <td>190086</td>\n",
              "      <td>/content/drive/My Drive/id/id12/Base/p01/dis1....</td>\n",
              "      <td>id12</td>\n",
              "      <td>p01</td>\n",
              "    </tr>\n",
              "    <tr>\n",
              "      <th>190087</th>\n",
              "      <td>190087</td>\n",
              "      <td>/content/drive/My Drive/id/id12/Base/p02/dis1....</td>\n",
              "      <td>id12</td>\n",
              "      <td>p02</td>\n",
              "    </tr>\n",
              "    <tr>\n",
              "      <th>190088</th>\n",
              "      <td>190088</td>\n",
              "      <td>/content/drive/My Drive/id/id12/Base/p03/dis1....</td>\n",
              "      <td>id12</td>\n",
              "      <td>p03</td>\n",
              "    </tr>\n",
              "    <tr>\n",
              "      <th>190089</th>\n",
              "      <td>190089</td>\n",
              "      <td>/content/drive/My Drive/id/id12/Base/p04/dis1....</td>\n",
              "      <td>id12</td>\n",
              "      <td>p04</td>\n",
              "    </tr>\n",
              "    <tr>\n",
              "      <th>190090</th>\n",
              "      <td>190090</td>\n",
              "      <td>/content/drive/My Drive/id/id12/Base/p05/dis1....</td>\n",
              "      <td>id12</td>\n",
              "      <td>p05</td>\n",
              "    </tr>\n",
              "    <tr>\n",
              "      <th>190091</th>\n",
              "      <td>190091</td>\n",
              "      <td>/content/drive/My Drive/id/id12/Base/p06/dis1....</td>\n",
              "      <td>id12</td>\n",
              "      <td>p06</td>\n",
              "    </tr>\n",
              "    <tr>\n",
              "      <th>190092</th>\n",
              "      <td>190092</td>\n",
              "      <td>/content/drive/My Drive/id/id12/Base/p07/dis1....</td>\n",
              "      <td>id12</td>\n",
              "      <td>p07</td>\n",
              "    </tr>\n",
              "    <tr>\n",
              "      <th>190093</th>\n",
              "      <td>190093</td>\n",
              "      <td>/content/drive/My Drive/id/id12/Base/p08/dis1....</td>\n",
              "      <td>id12</td>\n",
              "      <td>p08</td>\n",
              "    </tr>\n",
              "    <tr>\n",
              "      <th>190094</th>\n",
              "      <td>190094</td>\n",
              "      <td>/content/drive/My Drive/id/id12/Base/p09/dis1....</td>\n",
              "      <td>id12</td>\n",
              "      <td>p09</td>\n",
              "    </tr>\n",
              "  </tbody>\n",
              "</table>\n",
              "</div>\n",
              "      <button class=\"colab-df-convert\" onclick=\"convertToInteractive('df-49b6dd42-d30d-4dfc-9752-7cc89f144fa0')\"\n",
              "              title=\"Convert this dataframe to an interactive table.\"\n",
              "              style=\"display:none;\">\n",
              "        \n",
              "  <svg xmlns=\"http://www.w3.org/2000/svg\" height=\"24px\"viewBox=\"0 0 24 24\"\n",
              "       width=\"24px\">\n",
              "    <path d=\"M0 0h24v24H0V0z\" fill=\"none\"/>\n",
              "    <path d=\"M18.56 5.44l.94 2.06.94-2.06 2.06-.94-2.06-.94-.94-2.06-.94 2.06-2.06.94zm-11 1L8.5 8.5l.94-2.06 2.06-.94-2.06-.94L8.5 2.5l-.94 2.06-2.06.94zm10 10l.94 2.06.94-2.06 2.06-.94-2.06-.94-.94-2.06-.94 2.06-2.06.94z\"/><path d=\"M17.41 7.96l-1.37-1.37c-.4-.4-.92-.59-1.43-.59-.52 0-1.04.2-1.43.59L10.3 9.45l-7.72 7.72c-.78.78-.78 2.05 0 2.83L4 21.41c.39.39.9.59 1.41.59.51 0 1.02-.2 1.41-.59l7.78-7.78 2.81-2.81c.8-.78.8-2.07 0-2.86zM5.41 20L4 18.59l7.72-7.72 1.47 1.35L5.41 20z\"/>\n",
              "  </svg>\n",
              "      </button>\n",
              "      \n",
              "  <style>\n",
              "    .colab-df-container {\n",
              "      display:flex;\n",
              "      flex-wrap:wrap;\n",
              "      gap: 12px;\n",
              "    }\n",
              "\n",
              "    .colab-df-convert {\n",
              "      background-color: #E8F0FE;\n",
              "      border: none;\n",
              "      border-radius: 50%;\n",
              "      cursor: pointer;\n",
              "      display: none;\n",
              "      fill: #1967D2;\n",
              "      height: 32px;\n",
              "      padding: 0 0 0 0;\n",
              "      width: 32px;\n",
              "    }\n",
              "\n",
              "    .colab-df-convert:hover {\n",
              "      background-color: #E2EBFA;\n",
              "      box-shadow: 0px 1px 2px rgba(60, 64, 67, 0.3), 0px 1px 3px 1px rgba(60, 64, 67, 0.15);\n",
              "      fill: #174EA6;\n",
              "    }\n",
              "\n",
              "    [theme=dark] .colab-df-convert {\n",
              "      background-color: #3B4455;\n",
              "      fill: #D2E3FC;\n",
              "    }\n",
              "\n",
              "    [theme=dark] .colab-df-convert:hover {\n",
              "      background-color: #434B5C;\n",
              "      box-shadow: 0px 1px 3px 1px rgba(0, 0, 0, 0.15);\n",
              "      filter: drop-shadow(0px 1px 2px rgba(0, 0, 0, 0.3));\n",
              "      fill: #FFFFFF;\n",
              "    }\n",
              "  </style>\n",
              "\n",
              "      <script>\n",
              "        const buttonEl =\n",
              "          document.querySelector('#df-49b6dd42-d30d-4dfc-9752-7cc89f144fa0 button.colab-df-convert');\n",
              "        buttonEl.style.display =\n",
              "          google.colab.kernel.accessAllowed ? 'block' : 'none';\n",
              "\n",
              "        async function convertToInteractive(key) {\n",
              "          const element = document.querySelector('#df-49b6dd42-d30d-4dfc-9752-7cc89f144fa0');\n",
              "          const dataTable =\n",
              "            await google.colab.kernel.invokeFunction('convertToInteractive',\n",
              "                                                     [key], {});\n",
              "          if (!dataTable) return;\n",
              "\n",
              "          const docLinkHtml = 'Like what you see? Visit the ' +\n",
              "            '<a target=\"_blank\" href=https://colab.research.google.com/notebooks/data_table.ipynb>data table notebook</a>'\n",
              "            + ' to learn more about interactive tables.';\n",
              "          element.innerHTML = '';\n",
              "          dataTable['output_type'] = 'display_data';\n",
              "          await google.colab.output.renderOutput(dataTable, element);\n",
              "          const docLink = document.createElement('div');\n",
              "          docLink.innerHTML = docLinkHtml;\n",
              "          element.appendChild(docLink);\n",
              "        }\n",
              "      </script>\n",
              "    </div>\n",
              "  </div>\n",
              "  "
            ]
          },
          "metadata": {},
          "execution_count": 10
        }
      ]
    },
    {
      "cell_type": "code",
      "source": [
        "act = test['Part'].tolist() #ค่าจริง\n",
        "path = test['Path_Name'].tolist() #path"
      ],
      "metadata": {
        "id": "3pSCbxW9fbDd"
      },
      "execution_count": 11,
      "outputs": []
    },
    {
      "cell_type": "code",
      "source": [
        "from tensorflow.keras.preprocessing import image\n",
        "\n",
        "def predict_image(img_path): #สร้างฟังก์ชัน \n",
        "    # Read the image and resize it\n",
        "    img = image.load_img(img_path, target_size=(height, width)) #รูปทุกรูปมีขนาดไม่เท่ากันจึงตั้งไว้ว่าเวลาจะให้ model ดึงรูปมาทำนายให้ดึงรูปเข้ามาตามขนาดที่ตั้งไว้ตาม พารามิตเตอร์\n",
        "    # Convert it to a Numpy array with target shape.\n",
        "    x = image.img_to_array(img) # model ไม่สามารถทำนายรูปภาพโดยตรงได้ จึงเเปลงรูปภาพให้เป็น array เเล้วให้โมเดลทำนาย\n",
        "    # Reshape\n",
        "    x = x.reshape((1,) + x.shape) # เพิ่ม ไดเมนชั่นของโมเดล ให้เป็น 4 ได้ เมนชั่น โดยที่ 1, คือบอกให้โมเดลนำเข้าทีละ 1 รูปเเล้วค่อยทำนาย เเละ + ไดเมนชั่น คือ 150 ,150 ,3(สีของ RGB)\n",
        "    x /= 255.\n",
        "    result = model.predict([x])\n",
        "    return result[0]"
      ],
      "metadata": {
        "id": "LvNGywggfbA7"
      },
      "execution_count": 12,
      "outputs": []
    },
    {
      "cell_type": "code",
      "source": [
        "predict_image(path[0])[0]"
      ],
      "metadata": {
        "colab": {
          "base_uri": "https://localhost:8080/"
        },
        "id": "ClBnGVgafswS",
        "outputId": "b263e370-d8eb-48e3-e20e-90060e2b2e29"
      },
      "execution_count": 13,
      "outputs": [
        {
          "output_type": "stream",
          "name": "stdout",
          "text": [
            "1/1 [==============================] - 2s 2s/step\n"
          ]
        },
        {
          "output_type": "execute_result",
          "data": {
            "text/plain": [
              "0.0016224888"
            ]
          },
          "metadata": {},
          "execution_count": 13
        }
      ]
    },
    {
      "cell_type": "code",
      "source": [
        "import numpy as np"
      ],
      "metadata": {
        "id": "hAXjgsZAfsuM"
      },
      "execution_count": 14,
      "outputs": []
    },
    {
      "cell_type": "code",
      "source": [
        "#Predict\n",
        "pred_list = list()\n",
        "prob_list = list()\n",
        "img_path= path\n",
        "for i in range(0,len(img_path)):\n",
        "    predict = predict_image(img_path[i])\n",
        "    result = np.argmax(predict)\n",
        "    pred_list.append(labels[result])\n",
        "    prob_list.append(predict[result])"
      ],
      "metadata": {
        "colab": {
          "base_uri": "https://localhost:8080/"
        },
        "id": "CVoGLYCpfsro",
        "outputId": "a2eeb8e5-c2c2-4e89-b0a1-5800dde7db41"
      },
      "execution_count": 15,
      "outputs": [
        {
          "output_type": "stream",
          "name": "stdout",
          "text": [
            "1/1 [==============================] - 0s 54ms/step\n",
            "1/1 [==============================] - 0s 76ms/step\n",
            "1/1 [==============================] - 0s 67ms/step\n",
            "1/1 [==============================] - 0s 66ms/step\n",
            "1/1 [==============================] - 0s 55ms/step\n",
            "1/1 [==============================] - 0s 47ms/step\n",
            "1/1 [==============================] - 0s 55ms/step\n",
            "1/1 [==============================] - 0s 50ms/step\n",
            "1/1 [==============================] - 0s 51ms/step\n",
            "1/1 [==============================] - 0s 67ms/step\n",
            "1/1 [==============================] - 0s 67ms/step\n",
            "1/1 [==============================] - 0s 50ms/step\n",
            "1/1 [==============================] - 0s 50ms/step\n",
            "1/1 [==============================] - 0s 59ms/step\n",
            "1/1 [==============================] - 0s 52ms/step\n"
          ]
        }
      ]
    },
    {
      "cell_type": "code",
      "source": [
        "pred_list"
      ],
      "metadata": {
        "colab": {
          "base_uri": "https://localhost:8080/"
        },
        "id": "KwcvEQ1h2zE-",
        "outputId": "6571a4a5-ff98-4b13-df06-03a7b15c7ff1"
      },
      "execution_count": 20,
      "outputs": [
        {
          "output_type": "execute_result",
          "data": {
            "text/plain": [
              "['p13',\n",
              " 'p15',\n",
              " 'p11',\n",
              " 'p14',\n",
              " 'p11',\n",
              " 'p06',\n",
              " 'p13',\n",
              " 'p02',\n",
              " 'p07',\n",
              " 'p04',\n",
              " 'p06',\n",
              " 'p06',\n",
              " 'p07',\n",
              " 'p07',\n",
              " 'p06']"
            ]
          },
          "metadata": {},
          "execution_count": 20
        }
      ]
    },
    {
      "cell_type": "code",
      "source": [
        "pred = np.array(pred_list)\n",
        "act = np.array(act)"
      ],
      "metadata": {
        "id": "HwyDu0ix21rd"
      },
      "execution_count": 21,
      "outputs": []
    },
    {
      "cell_type": "code",
      "source": [
        "import numpy as np\n",
        "from sklearn.metrics import confusion_matrix\n",
        "\n",
        "# act = data_train['class'].array\n",
        "# pred = data_train['category_ov'].array\n",
        "\n",
        "cmat = confusion_matrix(act, pred)\n",
        "print('classifier accuracy = {}%'.format((100.*np.trace(cmat))/(np.sum(cmat))))\n",
        "\n",
        "#Marking the Confusion Matrix\n",
        "from sklearn.metrics import classification_report,confusion_matrix\n",
        "print(classification_report(act, pred))#performance"
      ],
      "metadata": {
        "colab": {
          "base_uri": "https://localhost:8080/"
        },
        "id": "xM29CTVf24FW",
        "outputId": "26a93e15-4289-4eb2-bd7d-9356c8f812eb"
      },
      "execution_count": 22,
      "outputs": [
        {
          "output_type": "stream",
          "name": "stdout",
          "text": [
            "classifier accuracy = 53.333333333333336%\n",
            "              precision    recall  f1-score   support\n",
            "\n",
            "         p01       0.00      0.00      0.00         1\n",
            "         p02       1.00      1.00      1.00         1\n",
            "         p03       0.00      0.00      0.00         1\n",
            "         p04       1.00      1.00      1.00         1\n",
            "         p05       0.00      0.00      0.00         1\n",
            "         p06       0.25      1.00      0.40         1\n",
            "         p07       0.33      1.00      0.50         1\n",
            "         p08       0.00      0.00      0.00         1\n",
            "         p09       0.00      0.00      0.00         1\n",
            "         p10       0.00      0.00      0.00         1\n",
            "         p11       0.50      1.00      0.67         1\n",
            "         p12       0.00      0.00      0.00         1\n",
            "         p13       0.50      1.00      0.67         1\n",
            "         p14       1.00      1.00      1.00         1\n",
            "         p15       1.00      1.00      1.00         1\n",
            "\n",
            "    accuracy                           0.53        15\n",
            "   macro avg       0.37      0.53      0.42        15\n",
            "weighted avg       0.37      0.53      0.42        15\n",
            "\n"
          ]
        },
        {
          "output_type": "stream",
          "name": "stderr",
          "text": [
            "/usr/local/lib/python3.8/dist-packages/sklearn/metrics/_classification.py:1318: UndefinedMetricWarning: Precision and F-score are ill-defined and being set to 0.0 in labels with no predicted samples. Use `zero_division` parameter to control this behavior.\n",
            "  _warn_prf(average, modifier, msg_start, len(result))\n",
            "/usr/local/lib/python3.8/dist-packages/sklearn/metrics/_classification.py:1318: UndefinedMetricWarning: Precision and F-score are ill-defined and being set to 0.0 in labels with no predicted samples. Use `zero_division` parameter to control this behavior.\n",
            "  _warn_prf(average, modifier, msg_start, len(result))\n",
            "/usr/local/lib/python3.8/dist-packages/sklearn/metrics/_classification.py:1318: UndefinedMetricWarning: Precision and F-score are ill-defined and being set to 0.0 in labels with no predicted samples. Use `zero_division` parameter to control this behavior.\n",
            "  _warn_prf(average, modifier, msg_start, len(result))\n"
          ]
        }
      ]
    },
    {
      "cell_type": "code",
      "source": [
        "#create CF \n",
        "data = {'Actual': act,'Predicted' : pred}\n",
        "df = pd.DataFrame(data, columns=['Actual','Predicted'])\n",
        "conf_mat = pd.crosstab(df['Actual'],df['Predicted'],rownames=['Actual'],colnames=['Predicted'])\n",
        "\n",
        "#Confusion matrix\n",
        "from sklearn.metrics import confusion_matrix\n",
        "import matplotlib.pyplot as plt\n",
        "cm = confusion_matrix(act, pred)\n",
        "\n",
        "#plot Confusion matrix\n",
        "import seaborn as sns\n",
        "sns.set()\n",
        "fig, ax = plt.subplots(figsize=(10, 10))\n",
        "\n",
        "ax = sns.heatmap(conf_mat, annot=True, fmt=\"d\", cmap=\"YlGnBu\") #Blues,Oranges,Reds\n",
        "ax.set_title('Confusion matrix',fontsize=20)\n",
        "ax.set_ylabel('True label',fontsize=18)\n",
        "ax.set_xlabel('Predicted label',fontsize=18)"
      ],
      "metadata": {
        "colab": {
          "base_uri": "https://localhost:8080/",
          "height": 1000
        },
        "id": "WdQ3Qj5tfshu",
        "outputId": "b2ec0e93-d667-44f9-bd73-e8ef8393570f"
      },
      "execution_count": 19,
      "outputs": [
        {
          "data": {
            "text/plain": [
              "Text(0.5, 66.5, 'Predicted label')"
            ]
          },
          "execution_count": 19,
          "metadata": {},
          "output_type": "execute_result"
        },
        {
          "data": {
            "image/png": "[encoded data removed]",
            "text/plain": [
              "<Figure size 720x720 with 2 Axes>"
            ]
          },
          "metadata": {},
          "output_type": "display_data"
        },
        {
          "output_type": "execute_result",
          "data": {
            "text/plain": [
              "Text(0.5, 66.5, 'Predicted label')"
            ]
          },
          "metadata": {},
          "execution_count": 19
        },
        {
          "output_type": "display_data",
          "data": {
            "text/plain": [
              "<Figure size 720x720 with 2 Axes>"
            ],
            "image/png": "[encoded data removed]"
          },
          "metadata": {}
        }
      ]
    }
  ]
}